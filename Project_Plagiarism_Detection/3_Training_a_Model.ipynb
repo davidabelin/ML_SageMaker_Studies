{
  "nbformat": 4,
  "nbformat_minor": 0,
  "metadata": {
    "kernelspec": {
      "display_name": "conda_pytorch_p36",
      "language": "python",
      "name": "conda_pytorch_p36"
    },
    "language_info": {
      "codemirror_mode": {
        "name": "ipython",
        "version": 3
      },
      "file_extension": ".py",
      "mimetype": "text/x-python",
      "name": "python",
      "nbconvert_exporter": "python",
      "pygments_lexer": "ipython3",
      "version": "3.6.10"
    },
    "colab": {
      "name": "3_Training_a_Model.ipynb",
      "provenance": []
    }
  },
  "cells": [
    {
      "cell_type": "markdown",
      "metadata": {
        "id": "aFgUVOMwrGTQ"
      },
      "source": [
        "# Plagiarism Detection Model\n",
        "\n",
        "Now that you've created training and test data, you are ready to define and train a model. Your goal in this notebook, will be to train a binary classification model that learns to label an answer file as either plagiarized or not, based on the features you provide the model.\n",
        "\n",
        "This task will be broken down into a few discrete steps:\n",
        "\n",
        "* Upload your data to S3.\n",
        "* Define a binary classification model and a training script.\n",
        "* Train your model and deploy it.\n",
        "* Evaluate your deployed classifier and answer some questions about your approach.\n",
        "\n",
        "To complete this notebook, you'll have to complete all given exercises and answer all the questions in this notebook.\n",
        "> All your tasks will be clearly labeled **EXERCISE** and questions as **QUESTION**.\n",
        "\n",
        "It will be up to you to explore different classification models and decide on a model that gives you the best performance for this dataset.\n",
        "\n",
        "---"
      ]
    },
    {
      "cell_type": "markdown",
      "metadata": {
        "id": "8me8TeWlrGTc"
      },
      "source": [
        "## Load Data to S3\n",
        "\n",
        "In the last notebook, you should have created two files: a `training.csv` and `test.csv` file with the features and class labels for the given corpus of plagiarized/non-plagiarized text data. \n",
        "\n",
        ">The below cells load in some AWS SageMaker libraries and creates a default bucket. After creating this bucket, you can upload your locally stored data to S3.\n",
        "\n",
        "Save your train and test `.csv` feature files, locally. To do this you can run the second notebook \"2_Plagiarism_Feature_Engineering\" in SageMaker or you can manually upload your files to this notebook using the upload icon in Jupyter Lab. Then you can upload local files to S3 by using `sagemaker_session.upload_data` and pointing directly to where the training data is saved."
      ]
    },
    {
      "cell_type": "code",
      "metadata": {
        "id": "yFn67yiPrGTe"
      },
      "source": [
        "import pandas as pd\n",
        "import boto3\n",
        "import sagemaker"
      ],
      "execution_count": null,
      "outputs": []
    },
    {
      "cell_type": "code",
      "metadata": {
        "id": "dZI_VwRTrGTe"
      },
      "source": [
        "\"\"\"\n",
        "DON'T MODIFY ANYTHING IN THIS CELL THAT IS BELOW THIS LINE\n",
        "\"\"\"\n",
        "# session and role\n",
        "sagemaker_session = sagemaker.Session()\n",
        "role = sagemaker.get_execution_role()\n",
        "\n",
        "# create an S3 bucket\n",
        "bucket = sagemaker_session.default_bucket()"
      ],
      "execution_count": null,
      "outputs": []
    },
    {
      "cell_type": "markdown",
      "metadata": {
        "id": "DrCgNIHurGTf"
      },
      "source": [
        "## EXERCISE: Upload your training data to S3\n",
        "\n",
        "Specify the `data_dir` where you've saved your `train.csv` file. Decide on a descriptive `prefix` that defines where your data will be uploaded in the default S3 bucket. Finally, create a pointer to your training data by calling `sagemaker_session.upload_data` and passing in the required parameters. It may help to look at the [Session documentation](https://sagemaker.readthedocs.io/en/stable/session.html#sagemaker.session.Session.upload_data) or previous SageMaker code examples.\n",
        "\n",
        "You are expected to upload your entire directory. Later, the training script will only access the `train.csv` file."
      ]
    },
    {
      "cell_type": "code",
      "metadata": {
        "id": "fpZFLIiArGTf",
        "outputId": "79bb5967-4f2a-4830-f4aa-e00af02bc76b"
      },
      "source": [
        "# should be the name of directory you created to save your features data\n",
        "data_dir = \"plagiarism_data\"\n",
        "\n",
        "# set prefix, a descriptive name for a directory  \n",
        "prefix = \"plagiarism-data\"\n",
        "\n",
        "# upload all data to S3\n",
        "input_data = sagemaker_session.upload_data(path=data_dir, bucket=bucket, key_prefix=prefix)\n",
        "print(input_data)"
      ],
      "execution_count": null,
      "outputs": [
        {
          "output_type": "stream",
          "text": [
            "s3://sagemaker-us-east-1-645669770177/plagiarism-data\n"
          ],
          "name": "stdout"
        }
      ]
    },
    {
      "cell_type": "markdown",
      "metadata": {
        "id": "T-r6QedXrGTg"
      },
      "source": [
        "### Test cell\n",
        "\n",
        "Test that your data has been successfully uploaded. The below cell prints out the items in your S3 bucket and will throw an error if it is empty. You should see the contents of your `data_dir` and perhaps some checkpoints. If you see any other files listed, then you may have some old model files that you can delete via the S3 console (though, additional files shouldn't affect the performance of model developed in this notebook)."
      ]
    },
    {
      "cell_type": "code",
      "metadata": {
        "id": "2YWCwIhXrGTg"
      },
      "source": [
        "\"\"\"\n",
        "DON'T MODIFY ANYTHING IN THIS CELL THAT IS BELOW THIS LINE\n",
        "\"\"\"\n",
        "# confirm that data is in S3 bucket\n",
        "empty_check = []\n",
        "for obj in boto3.resource('s3').Bucket(bucket).objects.all():\n",
        "    empty_check.append(obj.key)\n",
        "    print(obj.key)\n",
        "\n",
        "assert len(empty_check) !=0, 'S3 bucket is empty.'\n",
        "print('Test passed!')"
      ],
      "execution_count": null,
      "outputs": []
    },
    {
      "cell_type": "markdown",
      "metadata": {
        "id": "sYxyw2b2rGTm"
      },
      "source": [
        "---\n",
        "\n",
        "# Modeling\n",
        "\n",
        "Now that you've uploaded your training data, it's time to define and train a model!\n",
        "\n",
        "The type of model you create is up to you. For a binary classification task, you can choose to go one of three routes:\n",
        "* Use a built-in classification algorithm, like LinearLearner.\n",
        "* Define a custom Scikit-learn classifier, a comparison of models can be found [here](https://scikit-learn.org/stable/auto_examples/classification/plot_classifier_comparison.html).\n",
        "* Define a custom PyTorch neural network classifier. \n",
        "\n",
        "It will be up to you to test out a variety of models and choose the best one. Your project will be graded on the accuracy of your final model. \n",
        " \n",
        "---\n",
        "\n",
        "## EXERCISE: Complete a training script \n",
        "\n",
        "To implement a custom classifier, you'll need to complete a `train.py` script. You've been given the folders `source_sklearn` and `source_pytorch` which hold starting code for a custom Scikit-learn model and a PyTorch model, respectively. Each directory has a `train.py` training script. To complete this project **you only need to complete one of these scripts**; the script that is responsible for training your final model.\n",
        "\n",
        "A typical training script:\n",
        "* Loads training data from a specified directory\n",
        "* Parses any training & model hyperparameters (ex. nodes in a neural network, training epochs, etc.)\n",
        "* Instantiates a model of your design, with any specified hyperparams\n",
        "* Trains that model \n",
        "* Finally, saves the model so that it can be hosted/deployed, later\n",
        "\n",
        "### Defining and training a model\n",
        "Much of the training script code is provided for you. Almost all of your work will be done in the `if __name__ == '__main__':` section. To complete a `train.py` file, you will:\n",
        "1. Import any extra libraries you need\n",
        "2. Define any additional model training hyperparameters using `parser.add_argument`\n",
        "2. Define a model in the `if __name__ == '__main__':` section\n",
        "3. Train the model in that same section\n",
        "\n",
        "Below, you can use `!pygmentize` to display an existing `train.py` file. Read through the code; all of your tasks are marked with `TODO` comments. \n",
        "\n",
        "**Note: If you choose to create a custom PyTorch model, you will be responsible for defining the model in the `model.py` file,** and a `predict.py` file is provided. If you choose to use Scikit-learn, you only need a `train.py` file; you may import a classifier from the `sklearn` library."
      ]
    },
    {
      "cell_type": "code",
      "metadata": {
        "id": "vm0FeepNrGTo",
        "outputId": "8006a7af-5eb1-48f9-8766-f6bdafb65149"
      },
      "source": [
        "# directory can be changed to: source_sklearn or source_pytorch\n",
        "!pygmentize source_pytorch/train.py"
      ],
      "execution_count": null,
      "outputs": [
        {
          "output_type": "stream",
          "text": [
            "\u001b[34mfrom\u001b[39;49;00m \u001b[04m\u001b[36m__future__\u001b[39;49;00m \u001b[34mimport\u001b[39;49;00m print_function \u001b[37m# future proof\u001b[39;49;00m\r\n",
            "\u001b[34mimport\u001b[39;49;00m \u001b[04m\u001b[36margparse\u001b[39;49;00m\r\n",
            "\u001b[34mimport\u001b[39;49;00m \u001b[04m\u001b[36mjson\u001b[39;49;00m\r\n",
            "\u001b[34mimport\u001b[39;49;00m \u001b[04m\u001b[36mos\u001b[39;49;00m\r\n",
            "\u001b[34mimport\u001b[39;49;00m \u001b[04m\u001b[36mpandas\u001b[39;49;00m \u001b[34mas\u001b[39;49;00m \u001b[04m\u001b[36mpd\u001b[39;49;00m\r\n",
            "\u001b[34mimport\u001b[39;49;00m \u001b[04m\u001b[36mtorch\u001b[39;49;00m\r\n",
            "\u001b[34mimport\u001b[39;49;00m \u001b[04m\u001b[36mtorch\u001b[39;49;00m\u001b[04m\u001b[36m.\u001b[39;49;00m\u001b[04m\u001b[36moptim\u001b[39;49;00m \u001b[34mas\u001b[39;49;00m \u001b[04m\u001b[36moptim\u001b[39;49;00m\r\n",
            "\u001b[34mimport\u001b[39;49;00m \u001b[04m\u001b[36mtorch\u001b[39;49;00m\u001b[04m\u001b[36m.\u001b[39;49;00m\u001b[04m\u001b[36mutils\u001b[39;49;00m\u001b[04m\u001b[36m.\u001b[39;49;00m\u001b[04m\u001b[36mdata\u001b[39;49;00m\r\n",
            "\u001b[34mimport\u001b[39;49;00m \u001b[04m\u001b[36mtorch\u001b[39;49;00m\u001b[04m\u001b[36m.\u001b[39;49;00m\u001b[04m\u001b[36mnn\u001b[39;49;00m \u001b[34mas\u001b[39;49;00m \u001b[04m\u001b[36mnn\u001b[39;49;00m\r\n",
            "\r\n",
            "\u001b[37m# imports the model in model.py by name\u001b[39;49;00m\r\n",
            "\u001b[34mfrom\u001b[39;49;00m \u001b[04m\u001b[36mmodel\u001b[39;49;00m \u001b[34mimport\u001b[39;49;00m BinaryClassifier\r\n",
            "\r\n",
            "\u001b[34mdef\u001b[39;49;00m \u001b[32mmodel_fn\u001b[39;49;00m(model_dir):\r\n",
            "    \u001b[33m\"\"\"Load the PyTorch model from the `model_dir` directory.\"\"\"\u001b[39;49;00m\r\n",
            "    \u001b[36mprint\u001b[39;49;00m(\u001b[33m\"\u001b[39;49;00m\u001b[33mLoading model.\u001b[39;49;00m\u001b[33m\"\u001b[39;49;00m)\r\n",
            "\r\n",
            "    \u001b[37m# First, load the parameters used to create the model.\u001b[39;49;00m\r\n",
            "    model_info = {}\r\n",
            "    model_info_path = os.path.join(model_dir, \u001b[33m'\u001b[39;49;00m\u001b[33mmodel_info.pth\u001b[39;49;00m\u001b[33m'\u001b[39;49;00m)\r\n",
            "    \u001b[34mwith\u001b[39;49;00m \u001b[36mopen\u001b[39;49;00m(model_info_path, \u001b[33m'\u001b[39;49;00m\u001b[33mrb\u001b[39;49;00m\u001b[33m'\u001b[39;49;00m) \u001b[34mas\u001b[39;49;00m f:\r\n",
            "        model_info = torch.load(f)\r\n",
            "\r\n",
            "    \u001b[36mprint\u001b[39;49;00m(\u001b[33m\"\u001b[39;49;00m\u001b[33mmodel_info: \u001b[39;49;00m\u001b[33m{}\u001b[39;49;00m\u001b[33m\"\u001b[39;49;00m.format(model_info))\r\n",
            "\r\n",
            "    \u001b[37m# Determine the device and construct the model.\u001b[39;49;00m\r\n",
            "    device = torch.device(\u001b[33m\"\u001b[39;49;00m\u001b[33mcuda\u001b[39;49;00m\u001b[33m\"\u001b[39;49;00m \u001b[34mif\u001b[39;49;00m torch.cuda.is_available() \u001b[34melse\u001b[39;49;00m \u001b[33m\"\u001b[39;49;00m\u001b[33mcpu\u001b[39;49;00m\u001b[33m\"\u001b[39;49;00m)\r\n",
            "    model = BinaryClassifier(model_info[\u001b[33m'\u001b[39;49;00m\u001b[33minput_features\u001b[39;49;00m\u001b[33m'\u001b[39;49;00m], model_info[\u001b[33m'\u001b[39;49;00m\u001b[33mhidden_dim\u001b[39;49;00m\u001b[33m'\u001b[39;49;00m], model_info[\u001b[33m'\u001b[39;49;00m\u001b[33moutput_dim\u001b[39;49;00m\u001b[33m'\u001b[39;49;00m])\r\n",
            "\r\n",
            "    \u001b[37m# Load the stored model parameters.\u001b[39;49;00m\r\n",
            "    model_path = os.path.join(model_dir, \u001b[33m'\u001b[39;49;00m\u001b[33mmodel.pth\u001b[39;49;00m\u001b[33m'\u001b[39;49;00m)\r\n",
            "    \u001b[34mwith\u001b[39;49;00m \u001b[36mopen\u001b[39;49;00m(model_path, \u001b[33m'\u001b[39;49;00m\u001b[33mrb\u001b[39;49;00m\u001b[33m'\u001b[39;49;00m) \u001b[34mas\u001b[39;49;00m f:\r\n",
            "        model.load_state_dict(torch.load(f))\r\n",
            "\r\n",
            "    \u001b[37m# set to eval mode, could use no_grad\u001b[39;49;00m\r\n",
            "    model.to(device).eval()\r\n",
            "\r\n",
            "    \u001b[36mprint\u001b[39;49;00m(\u001b[33m\"\u001b[39;49;00m\u001b[33mDone loading model.\u001b[39;49;00m\u001b[33m\"\u001b[39;49;00m)\r\n",
            "    \u001b[34mreturn\u001b[39;49;00m model\r\n",
            "\r\n",
            "\u001b[37m# Gets training data in batches from the train.csv file\u001b[39;49;00m\r\n",
            "\u001b[34mdef\u001b[39;49;00m \u001b[32m_get_train_data_loader\u001b[39;49;00m(batch_size, training_dir):\r\n",
            "    \u001b[36mprint\u001b[39;49;00m(\u001b[33m\"\u001b[39;49;00m\u001b[33mGet train data loader.\u001b[39;49;00m\u001b[33m\"\u001b[39;49;00m)\r\n",
            "\r\n",
            "    train_data = pd.read_csv(os.path.join(training_dir, \u001b[33m\"\u001b[39;49;00m\u001b[33mtrain.csv\u001b[39;49;00m\u001b[33m\"\u001b[39;49;00m), header=\u001b[34mNone\u001b[39;49;00m, names=\u001b[34mNone\u001b[39;49;00m)\r\n",
            "\r\n",
            "    train_y = torch.from_numpy(train_data[[\u001b[34m0\u001b[39;49;00m]].values).float().squeeze()\r\n",
            "    train_x = torch.from_numpy(train_data.drop([\u001b[34m0\u001b[39;49;00m], axis=\u001b[34m1\u001b[39;49;00m).values).float()\r\n",
            "\r\n",
            "    train_ds = torch.utils.data.TensorDataset(train_x, train_y)\r\n",
            "\r\n",
            "    \u001b[34mreturn\u001b[39;49;00m torch.utils.data.DataLoader(train_ds, batch_size=batch_size)\r\n",
            "\r\n",
            "\r\n",
            "\u001b[37m# Provided training function\u001b[39;49;00m\r\n",
            "\u001b[34mdef\u001b[39;49;00m \u001b[32mtrain\u001b[39;49;00m(model, train_loader, epochs, criterion, optimizer, device):\r\n",
            "    \u001b[33m\"\"\"\u001b[39;49;00m\r\n",
            "\u001b[33m    This is the training method that is called by the PyTorch training script. The parameters\u001b[39;49;00m\r\n",
            "\u001b[33m    passed are as follows:\u001b[39;49;00m\r\n",
            "\u001b[33m    model        - The PyTorch model that we wish to train.\u001b[39;49;00m\r\n",
            "\u001b[33m    train_loader - The PyTorch DataLoader that should be used during training.\u001b[39;49;00m\r\n",
            "\u001b[33m    epochs       - The total number of epochs to train for.\u001b[39;49;00m\r\n",
            "\u001b[33m    criterion    - The loss function used for training. \u001b[39;49;00m\r\n",
            "\u001b[33m    optimizer    - The optimizer to use during training.\u001b[39;49;00m\r\n",
            "\u001b[33m    device       - Where the model and data should be loaded (gpu or cpu).\u001b[39;49;00m\r\n",
            "\u001b[33m    \"\"\"\u001b[39;49;00m\r\n",
            "    \r\n",
            "    \u001b[37m# training loop is provided\u001b[39;49;00m\r\n",
            "    \u001b[34mfor\u001b[39;49;00m epoch \u001b[35min\u001b[39;49;00m \u001b[36mrange\u001b[39;49;00m(\u001b[34m1\u001b[39;49;00m, epochs + \u001b[34m1\u001b[39;49;00m):\r\n",
            "        model.train() \u001b[37m# Make sure that the model is in training mode.\u001b[39;49;00m\r\n",
            "\r\n",
            "        total_loss = \u001b[34m0\u001b[39;49;00m\r\n",
            "\r\n",
            "        \u001b[34mfor\u001b[39;49;00m batch \u001b[35min\u001b[39;49;00m train_loader:\r\n",
            "            \u001b[37m# get data\u001b[39;49;00m\r\n",
            "            batch_x, batch_y = batch\r\n",
            "\r\n",
            "            batch_x = batch_x.to(device)\r\n",
            "            batch_y = batch_y.to(device)\r\n",
            "\r\n",
            "            optimizer.zero_grad()\r\n",
            "\r\n",
            "            \u001b[37m# get predictions from model\u001b[39;49;00m\r\n",
            "            y_pred = model(batch_x)\r\n",
            "            \r\n",
            "            \u001b[37m# perform backprop\u001b[39;49;00m\r\n",
            "            loss = criterion(y_pred, batch_y)\r\n",
            "            loss.backward()\r\n",
            "            optimizer.step()\r\n",
            "            \r\n",
            "            total_loss += loss.data.item()\r\n",
            "\r\n",
            "        \u001b[36mprint\u001b[39;49;00m(\u001b[33m\"\u001b[39;49;00m\u001b[33mEpoch: \u001b[39;49;00m\u001b[33m{}\u001b[39;49;00m\u001b[33m, Loss: \u001b[39;49;00m\u001b[33m{}\u001b[39;49;00m\u001b[33m\"\u001b[39;49;00m.format(epoch, total_loss / \u001b[36mlen\u001b[39;49;00m(train_loader)))\r\n",
            "\r\n",
            "\r\n",
            "\u001b[37m## TODO: Complete the main code\u001b[39;49;00m\r\n",
            "\u001b[34mif\u001b[39;49;00m \u001b[31m__name__\u001b[39;49;00m == \u001b[33m'\u001b[39;49;00m\u001b[33m__main__\u001b[39;49;00m\u001b[33m'\u001b[39;49;00m:\r\n",
            "    \r\n",
            "    \u001b[37m# All of the model parameters and training parameters are sent as arguments\u001b[39;49;00m\r\n",
            "    \u001b[37m# when this script is executed, during a training job\u001b[39;49;00m\r\n",
            "    \r\n",
            "    \u001b[37m# Here we set up an argument parser to easily access the parameters\u001b[39;49;00m\r\n",
            "    parser = argparse.ArgumentParser()\r\n",
            "\r\n",
            "    \u001b[37m# SageMaker parameters, like the directories for training data and saving models; set automatically\u001b[39;49;00m\r\n",
            "    \u001b[37m# Do not need to change\u001b[39;49;00m\r\n",
            "    parser.add_argument(\u001b[33m'\u001b[39;49;00m\u001b[33m--output-data-dir\u001b[39;49;00m\u001b[33m'\u001b[39;49;00m, \u001b[36mtype\u001b[39;49;00m=\u001b[36mstr\u001b[39;49;00m, default=os.environ[\u001b[33m'\u001b[39;49;00m\u001b[33mSM_OUTPUT_DATA_DIR\u001b[39;49;00m\u001b[33m'\u001b[39;49;00m])\r\n",
            "    parser.add_argument(\u001b[33m'\u001b[39;49;00m\u001b[33m--model-dir\u001b[39;49;00m\u001b[33m'\u001b[39;49;00m, \u001b[36mtype\u001b[39;49;00m=\u001b[36mstr\u001b[39;49;00m, default=os.environ[\u001b[33m'\u001b[39;49;00m\u001b[33mSM_MODEL_DIR\u001b[39;49;00m\u001b[33m'\u001b[39;49;00m])\r\n",
            "    parser.add_argument(\u001b[33m'\u001b[39;49;00m\u001b[33m--data-dir\u001b[39;49;00m\u001b[33m'\u001b[39;49;00m, \u001b[36mtype\u001b[39;49;00m=\u001b[36mstr\u001b[39;49;00m, default=os.environ[\u001b[33m'\u001b[39;49;00m\u001b[33mSM_CHANNEL_TRAIN\u001b[39;49;00m\u001b[33m'\u001b[39;49;00m])\r\n",
            "    \r\n",
            "    \u001b[37m# Training Parameters, given\u001b[39;49;00m\r\n",
            "    parser.add_argument(\u001b[33m'\u001b[39;49;00m\u001b[33m--batch-size\u001b[39;49;00m\u001b[33m'\u001b[39;49;00m, \u001b[36mtype\u001b[39;49;00m=\u001b[36mint\u001b[39;49;00m, default=\u001b[34m64\u001b[39;49;00m, metavar=\u001b[33m'\u001b[39;49;00m\u001b[33mN\u001b[39;49;00m\u001b[33m'\u001b[39;49;00m,\r\n",
            "                        help=\u001b[33m'\u001b[39;49;00m\u001b[33minput batch size for training (default: 10)\u001b[39;49;00m\u001b[33m'\u001b[39;49;00m)\r\n",
            "    parser.add_argument(\u001b[33m'\u001b[39;49;00m\u001b[33m--epochs\u001b[39;49;00m\u001b[33m'\u001b[39;49;00m, \u001b[36mtype\u001b[39;49;00m=\u001b[36mint\u001b[39;49;00m, default=\u001b[34m10\u001b[39;49;00m, metavar=\u001b[33m'\u001b[39;49;00m\u001b[33mN\u001b[39;49;00m\u001b[33m'\u001b[39;49;00m,\r\n",
            "                        help=\u001b[33m'\u001b[39;49;00m\u001b[33mnumber of epochs to train (default: 10)\u001b[39;49;00m\u001b[33m'\u001b[39;49;00m)\r\n",
            "    parser.add_argument(\u001b[33m'\u001b[39;49;00m\u001b[33m--seed\u001b[39;49;00m\u001b[33m'\u001b[39;49;00m, \u001b[36mtype\u001b[39;49;00m=\u001b[36mint\u001b[39;49;00m, default=\u001b[34m1\u001b[39;49;00m, metavar=\u001b[33m'\u001b[39;49;00m\u001b[33mS\u001b[39;49;00m\u001b[33m'\u001b[39;49;00m,\r\n",
            "                        help=\u001b[33m'\u001b[39;49;00m\u001b[33mrandom seed (default: 1)\u001b[39;49;00m\u001b[33m'\u001b[39;49;00m)\r\n",
            "    parser.add_argument(\u001b[33m'\u001b[39;49;00m\u001b[33m--lr\u001b[39;49;00m\u001b[33m'\u001b[39;49;00m, \u001b[36mtype\u001b[39;49;00m=\u001b[36mfloat\u001b[39;49;00m, default=\u001b[34m0.001\u001b[39;49;00m, metavar=\u001b[33m'\u001b[39;49;00m\u001b[33mLR\u001b[39;49;00m\u001b[33m'\u001b[39;49;00m,\r\n",
            "                        help=\u001b[33m'\u001b[39;49;00m\u001b[33mlearning rate (default: 0.001)\u001b[39;49;00m\u001b[33m'\u001b[39;49;00m)\r\n",
            "    \r\n",
            "    \u001b[37m## TODO: Add args for the three model parameters: input_features, hidden_dim, output_dim\u001b[39;49;00m\r\n",
            "    \u001b[37m# Model Parameters\u001b[39;49;00m\r\n",
            "    \u001b[37m## Adapted from moon_data solution code\u001b[39;49;00m\r\n",
            "    parser.add_argument(\u001b[33m'\u001b[39;49;00m\u001b[33m--input_dim\u001b[39;49;00m\u001b[33m'\u001b[39;49;00m, \u001b[36mtype\u001b[39;49;00m=\u001b[36mint\u001b[39;49;00m, default=\u001b[34m4\u001b[39;49;00m, metavar=\u001b[33m'\u001b[39;49;00m\u001b[33mIN\u001b[39;49;00m\u001b[33m'\u001b[39;49;00m, help=\u001b[33m'\u001b[39;49;00m\u001b[33mnumber of input features to model (default: 1)\u001b[39;49;00m\u001b[33m'\u001b[39;49;00m)\r\n",
            "    parser.add_argument(\u001b[33m'\u001b[39;49;00m\u001b[33m--hidden_dim\u001b[39;49;00m\u001b[33m'\u001b[39;49;00m, \u001b[36mtype\u001b[39;49;00m=\u001b[36mint\u001b[39;49;00m, default=\u001b[34m20\u001b[39;49;00m, metavar=\u001b[33m'\u001b[39;49;00m\u001b[33mHID\u001b[39;49;00m\u001b[33m'\u001b[39;49;00m, help=\u001b[33m'\u001b[39;49;00m\u001b[33mhidden dim of model (default: 10)\u001b[39;49;00m\u001b[33m'\u001b[39;49;00m)\r\n",
            "    parser.add_argument(\u001b[33m'\u001b[39;49;00m\u001b[33m--output_dim\u001b[39;49;00m\u001b[33m'\u001b[39;49;00m, \u001b[36mtype\u001b[39;49;00m=\u001b[36mint\u001b[39;49;00m, default=\u001b[34m1\u001b[39;49;00m, metavar=\u001b[33m'\u001b[39;49;00m\u001b[33mOUT\u001b[39;49;00m\u001b[33m'\u001b[39;49;00m, help=\u001b[33m'\u001b[39;49;00m\u001b[33moutput dim of model (must be: 1)\u001b[39;49;00m\u001b[33m'\u001b[39;49;00m)\r\n",
            "    \r\n",
            "    \u001b[37m# args holds all passed-in arguments\u001b[39;49;00m\r\n",
            "    args = parser.parse_args()\r\n",
            "\r\n",
            "    device = torch.device(\u001b[33m\"\u001b[39;49;00m\u001b[33mcuda\u001b[39;49;00m\u001b[33m\"\u001b[39;49;00m \u001b[34mif\u001b[39;49;00m torch.cuda.is_available() \u001b[34melse\u001b[39;49;00m \u001b[33m\"\u001b[39;49;00m\u001b[33mcpu\u001b[39;49;00m\u001b[33m\"\u001b[39;49;00m)\r\n",
            "    \u001b[36mprint\u001b[39;49;00m(\u001b[33m\"\u001b[39;49;00m\u001b[33mUsing device \u001b[39;49;00m\u001b[33m{}\u001b[39;49;00m\u001b[33m.\u001b[39;49;00m\u001b[33m\"\u001b[39;49;00m.format(device))\r\n",
            "\r\n",
            "    torch.manual_seed(args.seed)\r\n",
            "    \u001b[37m## Copied from moon_data solution code\u001b[39;49;00m\r\n",
            "    \u001b[34mif\u001b[39;49;00m torch.cuda.is_available():\r\n",
            "        torch.cuda.manual_seed(args.seed)\r\n",
            "        \r\n",
            "    \u001b[37m# Load the training data.\u001b[39;49;00m\r\n",
            "    train_loader = _get_train_data_loader(args.batch_size, args.data_dir)\r\n",
            "\r\n",
            "\r\n",
            "    \u001b[37m## --- Your code here --- ##\u001b[39;49;00m\r\n",
            "    \r\n",
            "    \u001b[37m## TODO:  Build the model by passing in the input params\u001b[39;49;00m\r\n",
            "    \u001b[37m# To get params from the parser, call args.argument_name, ex. args.epochs or ards.hidden_dim\u001b[39;49;00m\r\n",
            "    \u001b[37m# Don't forget to move your model .to(device) to move to GPU , if appropriate\u001b[39;49;00m\r\n",
            "    model = BinaryClassifier(args.input_dim, args.hidden_dim, args.output_dim).to(device)\r\n",
            "\r\n",
            "    \u001b[37m## TODO: Define an optimizer and loss function for training\u001b[39;49;00m\r\n",
            "    \u001b[37m## Copied from moon_data solution code\u001b[39;49;00m\r\n",
            "    optimizer = optim.Adam(model.parameters(), lr=args.lr)\r\n",
            "    criterion = nn.BCELoss()\r\n",
            "\r\n",
            "    \u001b[37m# Trains the model (given line of code, which calls the above training function)\u001b[39;49;00m\r\n",
            "    train(model, train_loader, args.epochs, criterion, optimizer, device)\r\n",
            "\r\n",
            "    \u001b[37m## TODO: complete in the model_info by adding three argument names, the first is given\u001b[39;49;00m\r\n",
            "    \u001b[37m# Keep the keys of this dictionary as they are \u001b[39;49;00m\r\n",
            "    model_info_path = os.path.join(args.model_dir, \u001b[33m'\u001b[39;49;00m\u001b[33mmodel_info.pth\u001b[39;49;00m\u001b[33m'\u001b[39;49;00m)\r\n",
            "    \u001b[34mwith\u001b[39;49;00m \u001b[36mopen\u001b[39;49;00m(model_info_path, \u001b[33m'\u001b[39;49;00m\u001b[33mwb\u001b[39;49;00m\u001b[33m'\u001b[39;49;00m) \u001b[34mas\u001b[39;49;00m f:\r\n",
            "        model_info = {\r\n",
            "            \u001b[33m'\u001b[39;49;00m\u001b[33minput_features\u001b[39;49;00m\u001b[33m'\u001b[39;49;00m: args.input_dim,\r\n",
            "            \u001b[33m'\u001b[39;49;00m\u001b[33mhidden_dim\u001b[39;49;00m\u001b[33m'\u001b[39;49;00m: args.hidden_dim,\r\n",
            "            \u001b[33m'\u001b[39;49;00m\u001b[33moutput_dim\u001b[39;49;00m\u001b[33m'\u001b[39;49;00m: args.output_dim,\r\n",
            "        }\r\n",
            "        torch.save(model_info, f)\r\n",
            "        \r\n",
            "    \u001b[37m## --- End of your code  --- ##\u001b[39;49;00m\r\n",
            "    \r\n",
            "\r\n",
            "\t\u001b[37m# Save the model parameters\u001b[39;49;00m\r\n",
            "    model_path = os.path.join(args.model_dir, \u001b[33m'\u001b[39;49;00m\u001b[33mmodel.pth\u001b[39;49;00m\u001b[33m'\u001b[39;49;00m)\r\n",
            "    \u001b[34mwith\u001b[39;49;00m \u001b[36mopen\u001b[39;49;00m(model_path, \u001b[33m'\u001b[39;49;00m\u001b[33mwb\u001b[39;49;00m\u001b[33m'\u001b[39;49;00m) \u001b[34mas\u001b[39;49;00m f:\r\n",
            "        torch.save(model.cpu().state_dict(), f)\r\n"
          ],
          "name": "stdout"
        }
      ]
    },
    {
      "cell_type": "markdown",
      "metadata": {
        "id": "W1qWTChjrGTp"
      },
      "source": [
        "### Provided code\n",
        "\n",
        "If you read the code above, you can see that the starter code includes a few things:\n",
        "* Model loading (`model_fn`) and saving code\n",
        "* Getting SageMaker's default hyperparameters\n",
        "* Loading the training data by name, `train.csv` and extracting the features and labels, `train_x`, and `train_y`\n",
        "\n",
        "If you'd like to read more about model saving with [joblib for sklearn](https://scikit-learn.org/stable/modules/model_persistence.html) or with [torch.save](https://pytorch.org/tutorials/beginner/saving_loading_models.html), click on the provided links."
      ]
    },
    {
      "cell_type": "markdown",
      "metadata": {
        "id": "VoCdnUr3rGTp"
      },
      "source": [
        "---\n",
        "# Create an Estimator\n",
        "\n",
        "When a custom model is constructed in SageMaker, an entry point must be specified. This is the Python file which will be executed when the model is trained; the `train.py` function you specified above. To run a custom training script in SageMaker, construct an estimator, and fill in the appropriate constructor arguments:\n",
        "\n",
        "* **entry_point**: The path to the Python script SageMaker runs for training and prediction.\n",
        "* **source_dir**: The path to the training script directory `source_sklearn` OR `source_pytorch`.\n",
        "* **entry_point**: The path to the Python script SageMaker runs for training and prediction.\n",
        "* **source_dir**: The path to the training script directory `train_sklearn` OR `train_pytorch`.\n",
        "* **entry_point**: The path to the Python script SageMaker runs for training.\n",
        "* **source_dir**: The path to the training script directory `train_sklearn` OR `train_pytorch`.\n",
        "* **role**: Role ARN, which was specified, above.\n",
        "* **train_instance_count**: The number of training instances (should be left at 1).\n",
        "* **train_instance_type**: The type of SageMaker instance for training. Note: Because Scikit-learn does not natively support GPU training, Sagemaker Scikit-learn does not currently support training on GPU instance types.\n",
        "* **sagemaker_session**: The session used to train on Sagemaker.\n",
        "* **hyperparameters** (optional): A dictionary `{'name':value, ..}` passed to the train function as hyperparameters.\n",
        "\n",
        "Note: For a PyTorch model, there is another optional argument **framework_version**, which you can set to the latest version of PyTorch, `1.0`.\n",
        "\n",
        "## EXERCISE: Define a Scikit-learn or PyTorch estimator\n",
        "\n",
        "To import your desired estimator, use one of the following lines:\n",
        "```\n",
        "from sagemaker.sklearn.estimator import SKLearn\n",
        "```\n",
        "```\n",
        "from sagemaker.pytorch import PyTorch\n",
        "```"
      ]
    },
    {
      "cell_type": "code",
      "metadata": {
        "id": "EgVdMBH1rGTr"
      },
      "source": [
        "# your import and estimator code, here\n",
        "from sagemaker.pytorch import PyTorch\n",
        "\n",
        "output_path = 's3://{}/{}'.format(bucket, prefix)\n",
        "\n",
        "estimator = PyTorch(entry_point='train.py',\n",
        "                    source_dir='source_pytorch',\n",
        "                    role=role,\n",
        "                    framework_version='1.6',\n",
        "                    py_version='py3',\n",
        "                    instance_count=1,\n",
        "                    instance_type='ml.m4.xlarge', #'ml.c4.xlarge',\n",
        "                    output_path=output_path,\n",
        "                    sagemaker_session=sagemaker_session,\n",
        "                    hyperparameters={\n",
        "                        'input_dim': 4,\n",
        "                        'hidden_dim': 20,\n",
        "                        'output_dim': 1,\n",
        "                        'epochs': 100\n",
        "                    })"
      ],
      "execution_count": null,
      "outputs": []
    },
    {
      "cell_type": "markdown",
      "metadata": {
        "id": "oIBySA_wrGTs"
      },
      "source": [
        "## EXERCISE: Train the estimator\n",
        "\n",
        "Train your estimator on the training data stored in S3. This should create a training job that you can monitor in your SageMaker console."
      ]
    },
    {
      "cell_type": "code",
      "metadata": {
        "id": "5VRY962lrGTs",
        "outputId": "fdc49f8b-bc9b-4002-bdcf-3c25b674cd96"
      },
      "source": [
        "%%time\n",
        "\n",
        "# Train your estimator on S3 training data\n",
        "\n",
        "estimator.fit({'train': input_data})"
      ],
      "execution_count": null,
      "outputs": [
        {
          "output_type": "stream",
          "text": [
            "2021-01-07 18:24:11 Starting - Starting the training job...\n",
            "2021-01-07 18:24:34 Starting - Launching requested ML instancesProfilerReport-1610043851: InProgress\n",
            "............\n",
            "2021-01-07 18:26:36 Starting - Preparing the instances for training......\n",
            "2021-01-07 18:27:37 Downloading - Downloading input data...\n",
            "2021-01-07 18:28:06 Training - Downloading the training image...\n",
            "2021-01-07 18:28:41 Uploading - Uploading generated training model\u001b[34mbash: cannot set terminal process group (-1): Inappropriate ioctl for device\u001b[0m\n",
            "\u001b[34mbash: no job control in this shell\u001b[0m\n",
            "\u001b[34m2021-01-07 18:28:31,624 sagemaker-training-toolkit INFO     Imported framework sagemaker_pytorch_container.training\u001b[0m\n",
            "\u001b[34m2021-01-07 18:28:31,626 sagemaker-training-toolkit INFO     No GPUs detected (normal if no gpus installed)\u001b[0m\n",
            "\u001b[34m2021-01-07 18:28:31,638 sagemaker_pytorch_container.training INFO     Block until all host DNS lookups succeed.\u001b[0m\n",
            "\u001b[34m2021-01-07 18:28:34,715 sagemaker_pytorch_container.training INFO     Invoking user training script.\u001b[0m\n",
            "\u001b[34m2021-01-07 18:28:35,165 sagemaker-training-toolkit INFO     No GPUs detected (normal if no gpus installed)\u001b[0m\n",
            "\u001b[34m2021-01-07 18:28:35,181 sagemaker-training-toolkit INFO     No GPUs detected (normal if no gpus installed)\u001b[0m\n",
            "\u001b[34m2021-01-07 18:28:35,196 sagemaker-training-toolkit INFO     No GPUs detected (normal if no gpus installed)\u001b[0m\n",
            "\u001b[34m2021-01-07 18:28:35,209 sagemaker-training-toolkit INFO     Invoking user script\n",
            "\u001b[0m\n",
            "\u001b[34mTraining Env:\n",
            "\u001b[0m\n",
            "\u001b[34m{\n",
            "    \"additional_framework_parameters\": {},\n",
            "    \"channel_input_dirs\": {\n",
            "        \"train\": \"/opt/ml/input/data/train\"\n",
            "    },\n",
            "    \"current_host\": \"algo-1\",\n",
            "    \"framework_module\": \"sagemaker_pytorch_container.training:main\",\n",
            "    \"hosts\": [\n",
            "        \"algo-1\"\n",
            "    ],\n",
            "    \"hyperparameters\": {\n",
            "        \"input_dim\": 4,\n",
            "        \"hidden_dim\": 20,\n",
            "        \"epochs\": 100,\n",
            "        \"output_dim\": 1\n",
            "    },\n",
            "    \"input_config_dir\": \"/opt/ml/input/config\",\n",
            "    \"input_data_config\": {\n",
            "        \"train\": {\n",
            "            \"TrainingInputMode\": \"File\",\n",
            "            \"S3DistributionType\": \"FullyReplicated\",\n",
            "            \"RecordWrapperType\": \"None\"\n",
            "        }\n",
            "    },\n",
            "    \"input_dir\": \"/opt/ml/input\",\n",
            "    \"is_master\": true,\n",
            "    \"job_name\": \"pytorch-training-2021-01-07-18-24-11-480\",\n",
            "    \"log_level\": 20,\n",
            "    \"master_hostname\": \"algo-1\",\n",
            "    \"model_dir\": \"/opt/ml/model\",\n",
            "    \"module_dir\": \"s3://sagemaker-us-east-1-645669770177/pytorch-training-2021-01-07-18-24-11-480/source/sourcedir.tar.gz\",\n",
            "    \"module_name\": \"train\",\n",
            "    \"network_interface_name\": \"eth0\",\n",
            "    \"num_cpus\": 4,\n",
            "    \"num_gpus\": 0,\n",
            "    \"output_data_dir\": \"/opt/ml/output/data\",\n",
            "    \"output_dir\": \"/opt/ml/output\",\n",
            "    \"output_intermediate_dir\": \"/opt/ml/output/intermediate\",\n",
            "    \"resource_config\": {\n",
            "        \"current_host\": \"algo-1\",\n",
            "        \"hosts\": [\n",
            "            \"algo-1\"\n",
            "        ],\n",
            "        \"network_interface_name\": \"eth0\"\n",
            "    },\n",
            "    \"user_entry_point\": \"train.py\"\u001b[0m\n",
            "\u001b[34m}\n",
            "\u001b[0m\n",
            "\u001b[34mEnvironment variables:\n",
            "\u001b[0m\n",
            "\u001b[34mSM_HOSTS=[\"algo-1\"]\u001b[0m\n",
            "\u001b[34mSM_NETWORK_INTERFACE_NAME=eth0\u001b[0m\n",
            "\u001b[34mSM_HPS={\"epochs\":100,\"hidden_dim\":20,\"input_dim\":4,\"output_dim\":1}\u001b[0m\n",
            "\u001b[34mSM_USER_ENTRY_POINT=train.py\u001b[0m\n",
            "\u001b[34mSM_FRAMEWORK_PARAMS={}\u001b[0m\n",
            "\u001b[34mSM_RESOURCE_CONFIG={\"current_host\":\"algo-1\",\"hosts\":[\"algo-1\"],\"network_interface_name\":\"eth0\"}\u001b[0m\n",
            "\u001b[34mSM_INPUT_DATA_CONFIG={\"train\":{\"RecordWrapperType\":\"None\",\"S3DistributionType\":\"FullyReplicated\",\"TrainingInputMode\":\"File\"}}\u001b[0m\n",
            "\u001b[34mSM_OUTPUT_DATA_DIR=/opt/ml/output/data\u001b[0m\n",
            "\u001b[34mSM_CHANNELS=[\"train\"]\u001b[0m\n",
            "\u001b[34mSM_CURRENT_HOST=algo-1\u001b[0m\n",
            "\u001b[34mSM_MODULE_NAME=train\u001b[0m\n",
            "\u001b[34mSM_LOG_LEVEL=20\u001b[0m\n",
            "\u001b[34mSM_FRAMEWORK_MODULE=sagemaker_pytorch_container.training:main\u001b[0m\n",
            "\u001b[34mSM_INPUT_DIR=/opt/ml/input\u001b[0m\n",
            "\u001b[34mSM_INPUT_CONFIG_DIR=/opt/ml/input/config\u001b[0m\n",
            "\u001b[34mSM_OUTPUT_DIR=/opt/ml/output\u001b[0m\n",
            "\u001b[34mSM_NUM_CPUS=4\u001b[0m\n",
            "\u001b[34mSM_NUM_GPUS=0\u001b[0m\n",
            "\u001b[34mSM_MODEL_DIR=/opt/ml/model\u001b[0m\n",
            "\u001b[34mSM_MODULE_DIR=s3://sagemaker-us-east-1-645669770177/pytorch-training-2021-01-07-18-24-11-480/source/sourcedir.tar.gz\u001b[0m\n",
            "\u001b[34mSM_TRAINING_ENV={\"additional_framework_parameters\":{},\"channel_input_dirs\":{\"train\":\"/opt/ml/input/data/train\"},\"current_host\":\"algo-1\",\"framework_module\":\"sagemaker_pytorch_container.training:main\",\"hosts\":[\"algo-1\"],\"hyperparameters\":{\"epochs\":100,\"hidden_dim\":20,\"input_dim\":4,\"output_dim\":1},\"input_config_dir\":\"/opt/ml/input/config\",\"input_data_config\":{\"train\":{\"RecordWrapperType\":\"None\",\"S3DistributionType\":\"FullyReplicated\",\"TrainingInputMode\":\"File\"}},\"input_dir\":\"/opt/ml/input\",\"is_master\":true,\"job_name\":\"pytorch-training-2021-01-07-18-24-11-480\",\"log_level\":20,\"master_hostname\":\"algo-1\",\"model_dir\":\"/opt/ml/model\",\"module_dir\":\"s3://sagemaker-us-east-1-645669770177/pytorch-training-2021-01-07-18-24-11-480/source/sourcedir.tar.gz\",\"module_name\":\"train\",\"network_interface_name\":\"eth0\",\"num_cpus\":4,\"num_gpus\":0,\"output_data_dir\":\"/opt/ml/output/data\",\"output_dir\":\"/opt/ml/output\",\"output_intermediate_dir\":\"/opt/ml/output/intermediate\",\"resource_config\":{\"current_host\":\"algo-1\",\"hosts\":[\"algo-1\"],\"network_interface_name\":\"eth0\"},\"user_entry_point\":\"train.py\"}\u001b[0m\n",
            "\u001b[34mSM_USER_ARGS=[\"--epochs\",\"100\",\"--hidden_dim\",\"20\",\"--input_dim\",\"4\",\"--output_dim\",\"1\"]\u001b[0m\n",
            "\u001b[34mSM_OUTPUT_INTERMEDIATE_DIR=/opt/ml/output/intermediate\u001b[0m\n",
            "\u001b[34mSM_CHANNEL_TRAIN=/opt/ml/input/data/train\u001b[0m\n",
            "\u001b[34mSM_HP_INPUT_DIM=4\u001b[0m\n",
            "\u001b[34mSM_HP_HIDDEN_DIM=20\u001b[0m\n",
            "\u001b[34mSM_HP_EPOCHS=100\u001b[0m\n",
            "\u001b[34mSM_HP_OUTPUT_DIM=1\u001b[0m\n",
            "\u001b[34mPYTHONPATH=/opt/ml/code:/opt/conda/bin:/opt/conda/lib/python36.zip:/opt/conda/lib/python3.6:/opt/conda/lib/python3.6/lib-dynload:/opt/conda/lib/python3.6/site-packages\n",
            "\u001b[0m\n",
            "\u001b[34mInvoking script with the following command:\n",
            "\u001b[0m\n",
            "\u001b[34m/opt/conda/bin/python train.py --epochs 100 --hidden_dim 20 --input_dim 4 --output_dim 1\n",
            "\n",
            "\u001b[0m\n",
            "\u001b[34mUsing device cpu.\u001b[0m\n",
            "\u001b[34mGet train data loader.\u001b[0m\n",
            "\u001b[34m[2021-01-07 18:28:37.454 algo-1:25 INFO utils.py:27] RULE_JOB_STOP_SIGNAL_FILENAME: None\u001b[0m\n",
            "\u001b[34m[2021-01-07 18:28:37.848 algo-1:25 INFO profiler_config_parser.py:102] User has disabled profiler.\u001b[0m\n",
            "\u001b[34m[2021-01-07 18:28:37.848 algo-1:25 INFO json_config.py:91] Creating hook from json_config at /opt/ml/input/config/debughookconfig.json.\u001b[0m\n",
            "\u001b[34m[2021-01-07 18:28:37.849 algo-1:25 INFO hook.py:199] tensorboard_dir has not been set for the hook. SMDebug will not be exporting tensorboard summaries.\u001b[0m\n",
            "\u001b[34m[2021-01-07 18:28:37.850 algo-1:25 INFO hook.py:253] Saving to /opt/ml/output/tensors\u001b[0m\n",
            "\u001b[34m[2021-01-07 18:28:37.850 algo-1:25 INFO state_store.py:67] The checkpoint config file /opt/ml/input/config/checkpointconfig.json does not exist.\u001b[0m\n",
            "\u001b[34m[2021-01-07 18:28:37.856 algo-1:25 INFO hook.py:550] name:fc1.weight count_params:80\u001b[0m\n",
            "\u001b[34m[2021-01-07 18:28:37.856 algo-1:25 INFO hook.py:550] name:fc1.bias count_params:20\u001b[0m\n",
            "\u001b[34m[2021-01-07 18:28:37.856 algo-1:25 INFO hook.py:550] name:fc2.weight count_params:20\u001b[0m\n",
            "\u001b[34m[2021-01-07 18:28:37.856 algo-1:25 INFO hook.py:550] name:fc2.bias count_params:1\u001b[0m\n",
            "\u001b[34m[2021-01-07 18:28:37.856 algo-1:25 INFO hook.py:552] Total Trainable Params: 121\u001b[0m\n",
            "\u001b[34m[2021-01-07 18:28:37.856 algo-1:25 INFO hook.py:413] Monitoring the collections: losses\u001b[0m\n",
            "\u001b[34m[2021-01-07 18:28:37.859 algo-1:25 INFO hook.py:476] Hook is writing from the hook with pid: 25\n",
            "\u001b[0m\n",
            "\u001b[34mEpoch: 1, Loss: 0.754480242729187\u001b[0m\n",
            "\u001b[34mEpoch: 2, Loss: 0.7455727756023407\u001b[0m\n",
            "\u001b[34mEpoch: 3, Loss: 0.7367931604385376\u001b[0m\n",
            "\u001b[34mEpoch: 4, Loss: 0.7375251948833466\u001b[0m\n",
            "\u001b[34mEpoch: 5, Loss: 0.7412849366664886\u001b[0m\n",
            "\u001b[34mEpoch: 6, Loss: 0.7408564388751984\u001b[0m\n",
            "\u001b[34mEpoch: 7, Loss: 0.7199881374835968\u001b[0m\n",
            "\u001b[34mEpoch: 8, Loss: 0.6969585120677948\u001b[0m\n",
            "\u001b[34mEpoch: 9, Loss: 0.7162430584430695\u001b[0m\n",
            "\u001b[34mEpoch: 10, Loss: 0.7264196574687958\u001b[0m\n",
            "\u001b[34mEpoch: 11, Loss: 0.6967865824699402\u001b[0m\n",
            "\u001b[34mEpoch: 12, Loss: 0.6985189616680145\u001b[0m\n",
            "\u001b[34mEpoch: 13, Loss: 0.7048636376857758\u001b[0m\n",
            "\u001b[34mEpoch: 14, Loss: 0.6972368359565735\u001b[0m\n",
            "\u001b[34mEpoch: 15, Loss: 0.6858822107315063\u001b[0m\n",
            "\u001b[34mEpoch: 16, Loss: 0.6941397488117218\u001b[0m\n",
            "\u001b[34mEpoch: 17, Loss: 0.6945514976978302\u001b[0m\n",
            "\u001b[34mEpoch: 18, Loss: 0.6841272413730621\u001b[0m\n",
            "\u001b[34mEpoch: 19, Loss: 0.6903683245182037\u001b[0m\n",
            "\u001b[34mEpoch: 20, Loss: 0.6939114034175873\u001b[0m\n",
            "\u001b[34mEpoch: 21, Loss: 0.6897531747817993\u001b[0m\n",
            "\u001b[34mEpoch: 22, Loss: 0.6704466044902802\u001b[0m\n",
            "\u001b[34mEpoch: 23, Loss: 0.6812670826911926\u001b[0m\n",
            "\u001b[34mEpoch: 24, Loss: 0.678058385848999\u001b[0m\n",
            "\u001b[34mEpoch: 25, Loss: 0.6612131595611572\u001b[0m\n",
            "\u001b[34mEpoch: 26, Loss: 0.6711499989032745\u001b[0m\n",
            "\u001b[34mEpoch: 27, Loss: 0.673238068819046\u001b[0m\n",
            "\u001b[34mEpoch: 28, Loss: 0.6722985506057739\u001b[0m\n",
            "\u001b[34mEpoch: 29, Loss: 0.6703253984451294\u001b[0m\n",
            "\u001b[34mEpoch: 30, Loss: 0.6666689217090607\u001b[0m\n",
            "\u001b[34mEpoch: 31, Loss: 0.6642394363880157\u001b[0m\n",
            "\u001b[34mEpoch: 32, Loss: 0.6612413823604584\u001b[0m\n",
            "\u001b[34mEpoch: 33, Loss: 0.64588662981987\u001b[0m\n",
            "\u001b[34mEpoch: 34, Loss: 0.6292471289634705\u001b[0m\n",
            "\u001b[34mEpoch: 35, Loss: 0.6521224677562714\u001b[0m\n",
            "\u001b[34mEpoch: 36, Loss: 0.6581397652626038\u001b[0m\n",
            "\u001b[34mEpoch: 37, Loss: 0.6420625746250153\u001b[0m\n",
            "\u001b[34mEpoch: 38, Loss: 0.6407124698162079\u001b[0m\n",
            "\u001b[34mEpoch: 39, Loss: 0.6320428252220154\u001b[0m\n",
            "\u001b[34mEpoch: 40, Loss: 0.6233803927898407\u001b[0m\n",
            "\u001b[34mEpoch: 41, Loss: 0.642982691526413\u001b[0m\n",
            "\u001b[34mEpoch: 42, Loss: 0.6335091888904572\u001b[0m\n",
            "\u001b[34mEpoch: 43, Loss: 0.6197820007801056\u001b[0m\n",
            "\u001b[34mEpoch: 44, Loss: 0.6503525078296661\u001b[0m\n",
            "\u001b[34mEpoch: 45, Loss: 0.6269533634185791\u001b[0m\n",
            "\u001b[34mEpoch: 46, Loss: 0.6266421377658844\u001b[0m\n",
            "\u001b[34mEpoch: 47, Loss: 0.6144196093082428\u001b[0m\n",
            "\u001b[34mEpoch: 48, Loss: 0.6132573783397675\u001b[0m\n",
            "\u001b[34mEpoch: 49, Loss: 0.6273801326751709\u001b[0m\n",
            "\u001b[34mEpoch: 50, Loss: 0.634698361158371\u001b[0m\n",
            "\u001b[34mEpoch: 51, Loss: 0.6138863265514374\u001b[0m\n",
            "\u001b[34mEpoch: 52, Loss: 0.6210350394248962\u001b[0m\n",
            "\u001b[34mEpoch: 53, Loss: 0.5914268493652344\u001b[0m\n",
            "\u001b[34mEpoch: 54, Loss: 0.6289598345756531\u001b[0m\n",
            "\u001b[34mEpoch: 55, Loss: 0.6061238944530487\u001b[0m\n",
            "\u001b[34mEpoch: 56, Loss: 0.6167861819267273\u001b[0m\n",
            "\u001b[34mEpoch: 57, Loss: 0.6050770878791809\u001b[0m\n",
            "\u001b[34mEpoch: 58, Loss: 0.60514235496521\u001b[0m\n",
            "\u001b[34mEpoch: 59, Loss: 0.6154206395149231\u001b[0m\n",
            "\u001b[34mEpoch: 60, Loss: 0.6087179183959961\u001b[0m\n",
            "\u001b[34mEpoch: 61, Loss: 0.6141116321086884\u001b[0m\n",
            "\u001b[34mEpoch: 62, Loss: 0.6311314404010773\u001b[0m\n",
            "\u001b[34mEpoch: 63, Loss: 0.6047208905220032\u001b[0m\n",
            "\u001b[34mEpoch: 64, Loss: 0.6020731031894684\u001b[0m\n",
            "\u001b[34mEpoch: 65, Loss: 0.581184446811676\u001b[0m\n",
            "\u001b[34mEpoch: 66, Loss: 0.5787473618984222\u001b[0m\n",
            "\u001b[34mEpoch: 67, Loss: 0.5891459584236145\u001b[0m\n",
            "\u001b[34mEpoch: 68, Loss: 0.6085764765739441\u001b[0m\n",
            "\u001b[34mEpoch: 69, Loss: 0.5809638500213623\u001b[0m\n",
            "\u001b[34mEpoch: 70, Loss: 0.6159732639789581\u001b[0m\n",
            "\u001b[34mEpoch: 71, Loss: 0.6172784864902496\u001b[0m\n",
            "\u001b[34mEpoch: 72, Loss: 0.6018629968166351\u001b[0m\n",
            "\u001b[34mEpoch: 73, Loss: 0.582516223192215\u001b[0m\n",
            "\u001b[34mEpoch: 74, Loss: 0.5739150941371918\u001b[0m\n",
            "\u001b[34mEpoch: 75, Loss: 0.5743730068206787\u001b[0m\n",
            "\u001b[34mEpoch: 76, Loss: 0.5924935340881348\u001b[0m\n",
            "\u001b[34mEpoch: 77, Loss: 0.5908977389335632\u001b[0m\n",
            "\u001b[34mEpoch: 78, Loss: 0.5950528681278229\u001b[0m\n",
            "\u001b[34mEpoch: 79, Loss: 0.5611027181148529\u001b[0m\n",
            "\u001b[34mEpoch: 80, Loss: 0.5626463890075684\u001b[0m\n",
            "\u001b[34mEpoch: 81, Loss: 0.604639083147049\u001b[0m\n",
            "\u001b[34mEpoch: 82, Loss: 0.5866815745830536\u001b[0m\n",
            "\u001b[34mEpoch: 83, Loss: 0.5843622088432312\u001b[0m\n",
            "\u001b[34mEpoch: 84, Loss: 0.5847234725952148\u001b[0m\n",
            "\u001b[34mEpoch: 85, Loss: 0.5849313735961914\u001b[0m\n",
            "\u001b[34mEpoch: 86, Loss: 0.5748705267906189\u001b[0m\n",
            "\u001b[34mEpoch: 87, Loss: 0.5867428779602051\u001b[0m\n",
            "\u001b[34mEpoch: 88, Loss: 0.5603814423084259\u001b[0m\n",
            "\u001b[34mEpoch: 89, Loss: 0.5851369500160217\u001b[0m\n",
            "\u001b[34mEpoch: 90, Loss: 0.5729778409004211\u001b[0m\n",
            "\u001b[34mEpoch: 91, Loss: 0.5718781054019928\u001b[0m\n",
            "\u001b[34mEpoch: 92, Loss: 0.5609115362167358\u001b[0m\n",
            "\u001b[34mEpoch: 93, Loss: 0.5533891320228577\u001b[0m\n",
            "\u001b[34mEpoch: 94, Loss: 0.5578767657279968\u001b[0m\n",
            "\u001b[34mEpoch: 95, Loss: 0.5780153572559357\u001b[0m\n",
            "\u001b[34mEpoch: 96, Loss: 0.5599399507045746\u001b[0m\n",
            "\u001b[34mEpoch: 97, Loss: 0.5364351570606232\u001b[0m\n",
            "\u001b[34mEpoch: 98, Loss: 0.5768163502216339\u001b[0m\n",
            "\u001b[34mEpoch: 99, Loss: 0.5691752433776855\u001b[0m\n",
            "\u001b[34mEpoch: 100, Loss: 0.5590001940727234\u001b[0m\n",
            "\u001b[34m2021-01-07 18:28:38,525 sagemaker-training-toolkit INFO     Reporting training SUCCESS\u001b[0m\n"
          ],
          "name": "stdout"
        },
        {
          "output_type": "stream",
          "text": [
            "\n",
            "2021-01-07 18:28:58 Completed - Training job completed\n",
            "Training seconds: 77\n",
            "Billable seconds: 77\n",
            "CPU times: user 773 ms, sys: 2.68 ms, total: 776 ms\n",
            "Wall time: 5min 14s\n"
          ],
          "name": "stdout"
        }
      ]
    },
    {
      "cell_type": "markdown",
      "metadata": {
        "id": "OhkUq8uUrGTt"
      },
      "source": [
        "## EXERCISE: Deploy the trained model\n",
        "\n",
        "After training, deploy your model to create a `predictor`. If you're using a PyTorch model, you'll need to create a trained `PyTorchModel` that accepts the trained `<model>.model_data` as an input parameter and points to the provided `source_pytorch/predict.py` file as an entry point. \n",
        "\n",
        "To deploy a trained model, you'll use `<model>.deploy`, which takes in two arguments:\n",
        "* **initial_instance_count**: The number of deployed instances (1).\n",
        "* **instance_type**: The type of SageMaker instance for deployment.\n",
        "\n",
        "Note: If you run into an instance error, it may be because you chose the wrong training or deployment instance_type. It may help to refer to your previous exercise code to see which types of instances we used."
      ]
    },
    {
      "cell_type": "code",
      "metadata": {
        "id": "-PquJltIrGTu",
        "outputId": "505983c7-134c-45d5-fb4b-edf841f639d7"
      },
      "source": [
        "%%time\n",
        "\n",
        "# uncomment, if needed\n",
        "from sagemaker.pytorch import PyTorchModel\n",
        "\n",
        "model = PyTorchModel(model_data=estimator.model_data,\n",
        "                     role = role,\n",
        "                     framework_version='1.6',\n",
        "                     py_version='py3',\n",
        "                     entry_point='predict.py',\n",
        "                     source_dir='source_pytorch')\n",
        "\n",
        "# deploy your model to create a predictor\n",
        "predictor = model.deploy(initial_instance_count=1, instance_type='ml.m4.xlarge') #'ml.m4.medium')"
      ],
      "execution_count": null,
      "outputs": [
        {
          "output_type": "stream",
          "text": [
            "------------------!CPU times: user 497 ms, sys: 18.3 ms, total: 515 ms\n",
            "Wall time: 9min 2s\n"
          ],
          "name": "stdout"
        }
      ]
    },
    {
      "cell_type": "markdown",
      "metadata": {
        "id": "o1dhCyScrGTu"
      },
      "source": [
        "---\n",
        "# Evaluating Your Model\n",
        "\n",
        "Once your model is deployed, you can see how it performs when applied to our test data.\n",
        "\n",
        "The provided cell below, reads in the test data, assuming it is stored locally in `data_dir` and named `test.csv`. The labels and features are extracted from the `.csv` file."
      ]
    },
    {
      "cell_type": "code",
      "metadata": {
        "id": "ysuXPszNrGTv"
      },
      "source": [
        "\"\"\"\n",
        "DON'T MODIFY ANYTHING IN THIS CELL THAT IS BELOW THIS LINE\n",
        "\"\"\"\n",
        "import os\n",
        "\n",
        "# read in test data, assuming it is stored locally\n",
        "test_data = pd.read_csv(os.path.join(data_dir, \"test.csv\"), header=None, names=None)\n",
        "\n",
        "# labels are in the first column\n",
        "test_y = test_data.iloc[:,0]\n",
        "test_x = test_data.iloc[:,1:]"
      ],
      "execution_count": null,
      "outputs": []
    },
    {
      "cell_type": "markdown",
      "metadata": {
        "id": "KGdOTn6srGTv"
      },
      "source": [
        "## EXERCISE: Determine the accuracy of your model\n",
        "\n",
        "Use your deployed `predictor` to generate predicted, class labels for the test data. Compare those to the *true* labels, `test_y`, and calculate the accuracy as a value between 0 and 1.0 that indicates the fraction of test data that your model classified correctly. You may use [sklearn.metrics](https://scikit-learn.org/stable/modules/classes.html#module-sklearn.metrics) for this calculation.\n",
        "\n",
        "**To pass this project, your model should get at least 90% test accuracy.**"
      ]
    },
    {
      "cell_type": "code",
      "metadata": {
        "id": "1wMXm8MdrGTw"
      },
      "source": [
        "# First: generate predicted, class labels\n",
        "test_y_preds = predictor.predict(test_x)\n",
        "print (test_y_preds)\n",
        "\n",
        "\"\"\"\n",
        "DON'T MODIFY ANYTHING IN THIS CELL THAT IS BELOW THIS LINE\n",
        "\"\"\"\n",
        "# test that your model generates the correct number of labels\n",
        "assert len(test_y_preds)==len(test_y), 'Unexpected number of predictions.'\n",
        "print('Test passed!')"
      ],
      "execution_count": null,
      "outputs": []
    },
    {
      "cell_type": "code",
      "metadata": {
        "id": "ozPbBp9arGTx"
      },
      "source": [
        "# Second: calculate the test accuracy\n",
        "import sklearn\n",
        "accuracy = sklearn.metrics.accuracy_score(test_y_preds, test_y, normalize=True)\n",
        "\n",
        "print(accuracy)\n",
        "\n",
        "\n",
        "## print out the array of predicted and true labels, if you want\n",
        "print('\\nPredicted class labels: ')\n",
        "print(test_y_preds)\n",
        "print('\\nTrue class labels: ')\n",
        "print(test_y.values)"
      ],
      "execution_count": null,
      "outputs": []
    },
    {
      "cell_type": "markdown",
      "metadata": {
        "id": "bjlKh39NrGTx"
      },
      "source": [
        "### Question 1: How many false positives and false negatives did your model produce, if any? And why do you think this is?"
      ]
    },
    {
      "cell_type": "markdown",
      "metadata": {
        "id": "Tmb6pnIerGTx"
      },
      "source": [
        "** Answer**: \n"
      ]
    },
    {
      "cell_type": "markdown",
      "metadata": {
        "id": "eXUkE-8JrGTy"
      },
      "source": [
        "### Question 2: How did you decide on the type of model to use? "
      ]
    },
    {
      "cell_type": "markdown",
      "metadata": {
        "id": "I32DkauarGTy"
      },
      "source": [
        "** Answer**:\n",
        "\n"
      ]
    },
    {
      "cell_type": "markdown",
      "metadata": {
        "id": "8aeb6eIUrGTy"
      },
      "source": [
        "----\n",
        "## EXERCISE: Clean up Resources\n",
        "\n",
        "After you're done evaluating your model, **delete your model endpoint**. You can do this with a call to `.delete_endpoint()`. You need to show, in this notebook, that the endpoint was deleted. Any other resources, you may delete from the AWS console, and you will find more instructions on cleaning up all your resources, below."
      ]
    },
    {
      "cell_type": "code",
      "metadata": {
        "id": "IUjpPhtrrGTy"
      },
      "source": [
        "# uncomment and fill in the line below!\n",
        "# predictor.delete_endpoint()\n"
      ],
      "execution_count": null,
      "outputs": []
    },
    {
      "cell_type": "markdown",
      "metadata": {
        "id": "8K9ibuLirGTy"
      },
      "source": [
        "### Deleting S3 bucket\n",
        "\n",
        "When you are *completely* done with training and testing models, you can also delete your entire S3 bucket. If you do this before you are done training your model, you'll have to recreate your S3 bucket and upload your training data again."
      ]
    },
    {
      "cell_type": "code",
      "metadata": {
        "id": "I32Vso3LrGTz"
      },
      "source": [
        "# deleting bucket, uncomment lines below\n",
        "\n",
        "# bucket_to_delete = boto3.resource('s3').Bucket(bucket)\n",
        "# bucket_to_delete.objects.all().delete()"
      ],
      "execution_count": null,
      "outputs": []
    },
    {
      "cell_type": "markdown",
      "metadata": {
        "id": "1Fsrzml5rGTz"
      },
      "source": [
        "### Deleting all your models and instances\n",
        "\n",
        "When you are _completely_ done with this project and do **not** ever want to revisit this notebook, you can choose to delete all of your SageMaker notebook instances and models by following [these instructions](https://docs.aws.amazon.com/sagemaker/latest/dg/ex1-cleanup.html). Before you delete this notebook instance, I recommend at least downloading a copy and saving it, locally."
      ]
    },
    {
      "cell_type": "markdown",
      "metadata": {
        "id": "u28xIOjSrGTz"
      },
      "source": [
        "---\n",
        "## Further Directions\n",
        "\n",
        "There are many ways to improve or add on to this project to expand your learning or make this more of a unique project for you. A few ideas are listed below:\n",
        "* Train a classifier to predict the *category* (1-3) of plagiarism and not just plagiarized (1) or not (0).\n",
        "* Utilize a different and larger dataset to see if this model can be extended to other types of plagiarism.\n",
        "* Use language or character-level analysis to find different (and more) similarity features.\n",
        "* Write a complete pipeline function that accepts a source text and submitted text file, and classifies the submitted text as plagiarized or not.\n",
        "* Use API Gateway and a lambda function to deploy your model to a web application.\n",
        "\n",
        "These are all just options for extending your work. If you've completed all the exercises in this notebook, you've completed a real-world application, and can proceed to submit your project. Great job!"
      ]
    }
  ]
}