{
  "nbformat": 4,
  "nbformat_minor": 0,
  "metadata": {
    "kernelspec": {
      "name": "python3",
      "display_name": "Python 3"
    },
    "notice": "None.",
    "colab": {
      "name": "Energy_Consumption_Solution.ipynb",
      "provenance": [],
      "toc_visible": true,
      "machine_shape": "hm",
      "include_colab_link": true
    },
    "accelerator": "GPU"
  },
  "cells": [
    {
      "cell_type": "markdown",
      "metadata": {
        "id": "view-in-github",
        "colab_type": "text"
      },
      "source": [
        "<a href=\"https://colab.research.google.com/github/davidabelin/ML_SageMaker_Studies/blob/master/Time_Series_Forecasting/Energy_Consumption_Solution.ipynb\" target=\"_parent\"><img src=\"https://colab.research.google.com/assets/colab-badge.svg\" alt=\"Open In Colab\"/></a>"
      ]
    },
    {
      "cell_type": "markdown",
      "metadata": {
        "id": "cFFXklOCikuT"
      },
      "source": [
        "# Time Series Forecasting \n",
        "\n",
        "A time series is data collected periodically, over time. Time series forecasting is the task of predicting future data points, given some historical data. It is commonly used in a variety of tasks from weather forecasting, retail and sales forecasting, stock market prediction, and in behavior prediction (such as predicting the flow of car traffic over a day). There is a lot of time series data out there, and recognizing patterns in that data is an active area of machine learning research!\n",
        "\n",
        "<img src='https://github.com/davidabelin/ML_SageMaker_Studies/blob/master/Time_Series_Forecasting/notebook_ims/time_series_examples.png?raw=1' width=80% />\n",
        "\n",
        "In this notebook, we'll focus on one method for finding time-based patterns: using SageMaker's supervised learning model, [DeepAR](https://docs.aws.amazon.com/sagemaker/latest/dg/deepar.html).\n",
        "\n",
        "\n",
        "### DeepAR\n",
        "\n",
        "DeepAR utilizes a recurrent neural network (RNN), which is designed to accept some sequence of data points as historical input and produce a predicted sequence of points. So, how does this model learn?\n",
        "\n",
        "During training, you'll provide a training dataset (made of several time series) to a DeepAR estimator. The estimator looks at *all* the training time series and tries to identify similarities across them. It trains by randomly sampling **training examples** from the training time series. \n",
        "* Each training example consists of a pair of adjacent **context** and **prediction** windows of fixed, predefined lengths. \n",
        "    * The `context_length` parameter controls how far in the *past* the model can see.\n",
        "    * The `prediction_length` parameter controls how far in the *future* predictions can be made.\n",
        "    * You can find more details, in [this documentation](https://docs.aws.amazon.com/sagemaker/latest/dg/deepar_how-it-works.html).\n",
        "\n",
        "<img src='https://github.com/davidabelin/ML_SageMaker_Studies/blob/master/Time_Series_Forecasting/notebook_ims/context_prediction_windows.png?raw=1' width=50% />\n",
        "\n",
        "> Since DeepAR trains on several time series, it is well suited for data that exhibit **recurring patterns**.\n",
        "\n",
        "In any forecasting task, you should choose the context window to provide enough, **relevant** information to a model so that it can produce accurate predictions. In general, data closest to the prediction time frame will contain the information that is most influential in defining that prediction. In many forecasting applications, like forecasting sales month-to-month, the context and prediction windows will be the same size, but sometimes it will be useful to have a larger context window to notice longer-term patterns in data.\n",
        "\n",
        "### Energy Consumption Data\n",
        "\n",
        "The data we'll be working with in this notebook is data about household electric power consumption, over the globe. The dataset is originally taken from [Kaggle](https://www.kaggle.com/uciml/electric-power-consumption-data-set), and represents power consumption collected over several years from 2006 to 2010. With such a large dataset, we can aim to predict over long periods of time, over days, weeks or months of time. Predicting energy consumption can be a useful task for a variety of reasons including determining seasonal prices for power consumption and efficiently delivering power to people, according to their predicted usage. \n",
        "\n",
        "**Interesting read**: An inversely-related project, recently done by Google and DeepMind, uses machine learning to predict the *generation* of power by wind turbines and efficiently deliver power to the grid. You can read about that research, [in this post](https://deepmind.com/blog/machine-learning-can-boost-value-wind-energy/).\n",
        "\n",
        "### Machine Learning Workflow\n",
        "\n",
        "This notebook approaches time series forecasting in a number of steps:\n",
        "* Loading and exploring the data\n",
        "* Creating training and test sets of time series\n",
        "* Formatting data as JSON files and uploading to S3\n",
        "* Instantiating and training a DeepAR estimator\n",
        "* Deploying a model and creating a predictor\n",
        "* Evaluating the predictor \n",
        "\n",
        "---\n",
        "\n",
        "Let's start by loading in the usual resources."
      ]
    },
    {
      "cell_type": "code",
      "metadata": {
        "id": "P8YqYUfiikuU"
      },
      "source": [
        "import numpy as np\n",
        "import pandas as pd\n",
        "import matplotlib.pyplot as plt\n",
        "%matplotlib inline"
      ],
      "execution_count": 1,
      "outputs": []
    },
    {
      "cell_type": "markdown",
      "metadata": {
        "id": "217DsC06ikuY"
      },
      "source": [
        "# Load and Explore the Data\n",
        "\n",
        "We'll be loading in some data about global energy consumption, collected over a few years. The below cell downloads and unzips this data, giving you one text file of data, `household_power_consumption.txt`."
      ]
    },
    {
      "cell_type": "code",
      "metadata": {
        "id": "XD9p1wV2ikuZ",
        "outputId": "b70b56cd-b1e4-4a47-91a7-c1a470fc3be4",
        "colab": {
          "base_uri": "https://localhost:8080/",
          "height": 258
        }
      },
      "source": [
        "! wget https://s3.amazonaws.com/video.udacity-data.com/topher/2019/March/5c88a3f1_household-electric-power-consumption/household-electric-power-consumption.zip\n",
        "! unzip household-electric-power-consumption"
      ],
      "execution_count": 4,
      "outputs": [
        {
          "output_type": "stream",
          "text": [
            "--2020-10-25 20:55:52--  https://s3.amazonaws.com/video.udacity-data.com/topher/2019/March/5c88a3f1_household-electric-power-consumption/household-electric-power-consumption.zip\n",
            "Resolving s3.amazonaws.com (s3.amazonaws.com)... 52.216.164.101\n",
            "Connecting to s3.amazonaws.com (s3.amazonaws.com)|52.216.164.101|:443... connected.\n",
            "HTTP request sent, awaiting response... 200 OK\n",
            "Length: 20805339 (20M) [application/zip]\n",
            "Saving to: ‘household-electric-power-consumption.zip’\n",
            "\n",
            "household-electric- 100%[===================>]  19.84M  17.9MB/s    in 1.1s    \n",
            "\n",
            "2020-10-25 20:55:54 (17.9 MB/s) - ‘household-electric-power-consumption.zip’ saved [20805339/20805339]\n",
            "\n",
            "Archive:  household-electric-power-consumption.zip\n",
            "  inflating: household_power_consumption.txt  \n"
          ],
          "name": "stdout"
        }
      ]
    },
    {
      "cell_type": "markdown",
      "metadata": {
        "id": "zFFcEIn2ikud"
      },
      "source": [
        "### Read in the `.txt` File\n",
        "\n",
        "The next cell displays the first few lines in the text file, so we can see how it is formatted."
      ]
    },
    {
      "cell_type": "code",
      "metadata": {
        "id": "ZMLt-zwJikue",
        "outputId": "e262fb5a-35dd-4b06-ee3c-4ba0be3321e2",
        "colab": {
          "base_uri": "https://localhost:8080/",
          "height": 207
        }
      },
      "source": [
        "# display first ten lines of text data\n",
        "n_lines = 10\n",
        "\n",
        "with open('household_power_consumption.txt') as file:\n",
        "    head = [next(file) for line in range(n_lines)]\n",
        "    \n",
        "display(head)"
      ],
      "execution_count": 5,
      "outputs": [
        {
          "output_type": "display_data",
          "data": {
            "text/plain": [
              "['Date;Time;Global_active_power;Global_reactive_power;Voltage;Global_intensity;Sub_metering_1;Sub_metering_2;Sub_metering_3\\n',\n",
              " '16/12/2006;17:24:00;4.216;0.418;234.840;18.400;0.000;1.000;17.000\\n',\n",
              " '16/12/2006;17:25:00;5.360;0.436;233.630;23.000;0.000;1.000;16.000\\n',\n",
              " '16/12/2006;17:26:00;5.374;0.498;233.290;23.000;0.000;2.000;17.000\\n',\n",
              " '16/12/2006;17:27:00;5.388;0.502;233.740;23.000;0.000;1.000;17.000\\n',\n",
              " '16/12/2006;17:28:00;3.666;0.528;235.680;15.800;0.000;1.000;17.000\\n',\n",
              " '16/12/2006;17:29:00;3.520;0.522;235.020;15.000;0.000;2.000;17.000\\n',\n",
              " '16/12/2006;17:30:00;3.702;0.520;235.090;15.800;0.000;1.000;17.000\\n',\n",
              " '16/12/2006;17:31:00;3.700;0.520;235.220;15.800;0.000;1.000;17.000\\n',\n",
              " '16/12/2006;17:32:00;3.668;0.510;233.990;15.800;0.000;1.000;17.000\\n']"
            ]
          },
          "metadata": {
            "tags": []
          }
        }
      ]
    },
    {
      "cell_type": "markdown",
      "metadata": {
        "id": "66TWXqOeikuj"
      },
      "source": [
        "## Pre-Process the Data\n",
        "\n",
        "The 'household_power_consumption.txt' file has the following attributes:\n",
        "   * Each data point has a date and time (hour:minute:second) of recording\n",
        "   * The various data features are separated by semicolons (;)\n",
        "   * Some values are 'nan' or '?', and we'll treat these both as `NaN` values\n",
        "\n",
        "### Managing `NaN` values\n",
        "\n",
        "This DataFrame does include some data points that have missing values. So far, we've mainly been dropping these values, but there are other ways to handle `NaN` values, as well. One technique is to just fill the missing column values with the **mean** value from that column; this way the added value is likely to be realistic.\n",
        "\n",
        "I've provided some helper functions in `txt_preprocessing.py` that will help to load in the original text file as a DataFrame *and* fill in any `NaN` values, per column, with the mean feature value. This technique will be fine for long-term forecasting; if I wanted to do an hourly analysis and prediction, I'd consider dropping the `NaN` values or taking an average over a small, sliding window rather than an entire column of data.\n",
        "\n",
        "**Below, I'm reading the file in as a DataFrame and filling `NaN` values with feature-level averages.**"
      ]
    },
    {
      "cell_type": "code",
      "metadata": {
        "id": "ENEMetlGikuj"
      },
      "source": [
        "import txt_preprocessing as pprocess\n",
        "\n",
        "# create df from text file\n",
        "initial_df = pprocess.create_df('household_power_consumption.txt', sep=';')\n",
        "\n",
        "# fill NaN column values with *average* column value\n",
        "df = pprocess.fill_nan_with_mean(initial_df)\n",
        "\n",
        "# print some stats about the data\n",
        "print('Data shape: ', df.shape)\n",
        "df.head()"
      ],
      "execution_count": null,
      "outputs": []
    },
    {
      "cell_type": "markdown",
      "metadata": {
        "id": "GIxgN9Qcikum"
      },
      "source": [
        "## Global Active Power \n",
        "\n",
        "In this example, we'll want to predict the global active power, which is the household minute-averaged active power (kilowatt), measured across the globe. So, below, I am getting just that column of data and displaying the resultant plot."
      ]
    },
    {
      "cell_type": "code",
      "metadata": {
        "id": "tirVsKNJikun",
        "outputId": "e2fe0830-1efc-4295-c228-61682064a239",
        "colab": {
          "base_uri": "https://localhost:8080/",
          "height": 34
        }
      },
      "source": [
        "# Select Global active power data\n",
        "power_df = df['Global_active_power'].copy()\n",
        "print(power_df.shape)"
      ],
      "execution_count": 8,
      "outputs": [
        {
          "output_type": "stream",
          "text": [
            "(2075259,)\n"
          ],
          "name": "stdout"
        }
      ]
    },
    {
      "cell_type": "code",
      "metadata": {
        "id": "CmmWJ8Exikuq",
        "outputId": "bc506a5b-332b-45b0-850f-8b17f896e79f",
        "colab": {
          "base_uri": "https://localhost:8080/",
          "height": 416
        }
      },
      "source": [
        "# display the data \n",
        "plt.figure(figsize=(12,6))\n",
        "# all data points\n",
        "power_df.plot(title='Global active power', color='blue') \n",
        "plt.show()"
      ],
      "execution_count": 9,
      "outputs": [
        {
          "output_type": "display_data",
          "data": {
            "image/png": "[encoded data removed]",
            "text/plain": [
              "<Figure size 864x432 with 1 Axes>"
            ]
          },
          "metadata": {
            "tags": [],
            "needs_background": "light"
          }
        }
      ]
    },
    {
      "cell_type": "markdown",
      "metadata": {
        "id": "AVWSH3ssikut"
      },
      "source": [
        "Since the data is recorded each minute, the above plot contains *a lot* of values. So, I'm also showing just a slice of data, below."
      ]
    },
    {
      "cell_type": "code",
      "metadata": {
        "id": "YOVt2_qnikuu",
        "outputId": "c617f2de-35f1-4e89-aa06-41bdcf2c7d52",
        "colab": {
          "base_uri": "https://localhost:8080/",
          "height": 416
        }
      },
      "source": [
        "# can plot a slice of hourly data\n",
        "end_mins = 1440 # 1440 mins = 1 day\n",
        "\n",
        "plt.figure(figsize=(12,6))\n",
        "power_df[0:end_mins].plot(title='Global active power, over one day', color='blue') \n",
        "plt.show()"
      ],
      "execution_count": 10,
      "outputs": [
        {
          "output_type": "display_data",
          "data": {
            "image/png": "[encoded data removed]",
            "text/plain": [
              "<Figure size 864x432 with 1 Axes>"
            ]
          },
          "metadata": {
            "tags": [],
            "needs_background": "light"
          }
        }
      ]
    },
    {
      "cell_type": "markdown",
      "metadata": {
        "id": "QAgf8Effiku0"
      },
      "source": [
        "### Hourly vs Daily\n",
        "\n",
        "There is a lot of data, collected every minute, and so I could go one of two ways with my analysis:\n",
        "1. Create many, short time series, say a week or so long, in which I record energy consumption every hour, and try to predict the energy consumption over the following hours or days.\n",
        "2. Create fewer, long time series with data recorded daily that I could use to predict usage in the following weeks or months.\n",
        "\n",
        "Both tasks are interesting! It depends on whether you want to predict time patterns over a day/week or over a longer time period, like a month. With the amount of data I have, I think it would be interesting to see longer, *recurring* trends that happen over several months or over a year. So, I will resample the 'Global active power' values, recording **daily** data points as averages over 24-hr periods.\n",
        "\n",
        "> I can resample according to a specified frequency, by utilizing pandas [time series tools](https://pandas.pydata.org/pandas-docs/stable/user_guide/timeseries.html), which allow me to sample at points like every hour ('H') or day ('D'), etc.\n",
        "\n"
      ]
    },
    {
      "cell_type": "code",
      "metadata": {
        "id": "fYwAnqNaiku2",
        "outputId": "9cba6d01-a22e-4d48-c586-a794dc49591d",
        "colab": {
          "base_uri": "https://localhost:8080/",
          "height": 517
        }
      },
      "source": [
        "# resample over day (D)\n",
        "freq = 'D'\n",
        "# calculate the mean active power for a day\n",
        "mean_power_df = power_df.resample(freq).mean()\n",
        "\n",
        "# display the mean values\n",
        "plt.figure(figsize=(15,8))\n",
        "mean_power_df.plot(title='Global active power, mean per day', color='blue') \n",
        "plt.tight_layout()\n",
        "plt.show()"
      ],
      "execution_count": 11,
      "outputs": [
        {
          "output_type": "display_data",
          "data": {
            "image/png": "[encoded data removed]",
            "text/plain": [
              "<Figure size 1080x576 with 1 Axes>"
            ]
          },
          "metadata": {
            "tags": [],
            "needs_background": "light"
          }
        }
      ]
    },
    {
      "cell_type": "markdown",
      "metadata": {
        "id": "EdQbTRvLiku6"
      },
      "source": [
        "In this plot, we can see that there are some interesting trends that occur over each year. It seems that there are spikes of energy consumption around the end/beginning of each year, which correspond with heat and light usage being higher in winter months. We also see a dip in usage around August, when global temperatures are typically higher.\n",
        "\n",
        "The data is still not very smooth, but it shows noticeable trends, and so, makes for a good use case for machine learning models that may be able to recognize these patterns."
      ]
    },
    {
      "cell_type": "markdown",
      "metadata": {
        "id": "cw1ypDAQiku7"
      },
      "source": [
        "---\n",
        "## Create Time Series \n",
        "\n",
        "My goal will be to take full years of data, from 2007-2009, and see if I can use it to accurately predict the average Global active power usage for the next several months in 2010!\n",
        "\n",
        "Next, let's make one time series for each complete year of data. This is just a design decision, and I am deciding to use full years of data, starting in January of 2017 because there are not that many data points in 2006 and this split will make it easier to handle leap years; I could have also decided to construct time series starting at the first collected data point, just by changing `t_start` and `t_end` in the function below.\n",
        "\n",
        "The function `make_time_series` will create pandas `Series` for each of the passed in list of years `['2007', '2008', '2009']`.\n",
        "* All of the time series will start at the same time point `t_start` (or t0). \n",
        "    * When preparing data, it's important to use a consistent start point for each time series; DeepAR uses this time-point as a frame of reference, which enables it to learn recurrent patterns e.g. that weekdays behave differently from weekends or that Summer is different than Winter.\n",
        "    * You can change the start and end indices to define any time series you create.\n",
        "* We should account for leap years, like 2008, in the creation of time series.\n",
        "* Generally, we create `Series` by getting the relevant global consumption data (from the DataFrame) and date indices.\n",
        "\n",
        "```\n",
        "# get global consumption data\n",
        "data = mean_power_df[start_idx:end_idx]\n",
        "\n",
        "# create time series for the year\n",
        "index = pd.DatetimeIndex(start=t_start, end=t_end, freq='D')\n",
        "time_series.append(pd.Series(data=data, index=index))\n",
        "```"
      ]
    },
    {
      "cell_type": "code",
      "metadata": {
        "id": "3AlgmLyBiku7"
      },
      "source": [
        "def make_time_series(mean_power_df, years, freq='D', start_idx=16):\n",
        "    '''Creates as many time series as there are complete years. This code\n",
        "       accounts for the leap year, 2008.\n",
        "      :param mean_power_df: A dataframe of global power consumption, averaged by day.\n",
        "          This dataframe should also be indexed by a datetime.\n",
        "      :param years: A list of years to make time series out of, ex. ['2007', '2008'].\n",
        "      :param freq: The frequency of data recording (D = daily)\n",
        "      :param start_idx: The starting dataframe index of the first point in the first time series.\n",
        "          The default, 16, points to '2017-01-01'. \n",
        "      :return: A list of pd.Series(), time series data.\n",
        "      '''\n",
        "    \n",
        "    # store time series\n",
        "    time_series = []\n",
        "    \n",
        "    # store leap year in this dataset\n",
        "    leap = '2008'\n",
        "\n",
        "    # create time series for each year in years\n",
        "    for i in range(len(years)):\n",
        "\n",
        "        year = years[i]\n",
        "        if(year == leap):\n",
        "            end_idx = start_idx+366\n",
        "        else:\n",
        "            end_idx = start_idx+365\n",
        "\n",
        "        # create start and end datetimes\n",
        "        t_start = year + '-01-01' # Jan 1st of each year = t_start\n",
        "        t_end = year + '-12-31' # Dec 31st = t_end\n",
        "\n",
        "        # get global consumption data\n",
        "        data = mean_power_df[start_idx:end_idx]\n",
        "\n",
        "        # create time series for the year\n",
        "        index = pd.DatetimeIndex(start=t_start, end=t_end, freq=freq)\n",
        "        time_series.append(pd.Series(data=data, index=index))\n",
        "        \n",
        "        start_idx = end_idx\n",
        "    \n",
        "    # return list of time series\n",
        "    return time_series\n",
        "    "
      ],
      "execution_count": 12,
      "outputs": []
    },
    {
      "cell_type": "markdown",
      "metadata": {
        "id": "Gr1UFZY3iku-"
      },
      "source": [
        "## Test the results\n",
        "\n",
        "Below, let's construct one time series for each complete year of data, and display the results."
      ]
    },
    {
      "cell_type": "code",
      "metadata": {
        "id": "c7gcLXf5iku-",
        "outputId": "a612a2db-c815-4dc2-d6e3-60c39c1b66b8",
        "colab": {
          "base_uri": "https://localhost:8080/",
          "height": 316
        }
      },
      "source": [
        "# test out the code above\n",
        "\n",
        "# yearly time series for our three complete years\n",
        "full_years = ['2007', '2008', '2009']\n",
        "freq='D' # daily recordings\n",
        "\n",
        "# make time series\n",
        "time_series = make_time_series(mean_power_df, full_years, freq=freq)"
      ],
      "execution_count": 13,
      "outputs": [
        {
          "output_type": "error",
          "ename": "TypeError",
          "evalue": "ignored",
          "traceback": [
            "\u001b[0;31m---------------------------------------------------------------------------\u001b[0m",
            "\u001b[0;31mTypeError\u001b[0m                                 Traceback (most recent call last)",
            "\u001b[0;32m<ipython-input-13-57dc3b737a2c>\u001b[0m in \u001b[0;36m<module>\u001b[0;34m()\u001b[0m\n\u001b[1;32m      6\u001b[0m \u001b[0;34m\u001b[0m\u001b[0m\n\u001b[1;32m      7\u001b[0m \u001b[0;31m# make time series\u001b[0m\u001b[0;34m\u001b[0m\u001b[0;34m\u001b[0m\u001b[0;34m\u001b[0m\u001b[0m\n\u001b[0;32m----> 8\u001b[0;31m \u001b[0mtime_series\u001b[0m \u001b[0;34m=\u001b[0m \u001b[0mmake_time_series\u001b[0m\u001b[0;34m(\u001b[0m\u001b[0mmean_power_df\u001b[0m\u001b[0;34m,\u001b[0m \u001b[0mfull_years\u001b[0m\u001b[0;34m,\u001b[0m \u001b[0mfreq\u001b[0m\u001b[0;34m=\u001b[0m\u001b[0mfreq\u001b[0m\u001b[0;34m)\u001b[0m\u001b[0;34m\u001b[0m\u001b[0;34m\u001b[0m\u001b[0m\n\u001b[0m",
            "\u001b[0;32m<ipython-input-12-904818e1f82e>\u001b[0m in \u001b[0;36mmake_time_series\u001b[0;34m(mean_power_df, years, freq, start_idx)\u001b[0m\n\u001b[1;32m     34\u001b[0m \u001b[0;34m\u001b[0m\u001b[0m\n\u001b[1;32m     35\u001b[0m         \u001b[0;31m# create time series for the year\u001b[0m\u001b[0;34m\u001b[0m\u001b[0;34m\u001b[0m\u001b[0;34m\u001b[0m\u001b[0m\n\u001b[0;32m---> 36\u001b[0;31m         \u001b[0mindex\u001b[0m \u001b[0;34m=\u001b[0m \u001b[0mpd\u001b[0m\u001b[0;34m.\u001b[0m\u001b[0mDatetimeIndex\u001b[0m\u001b[0;34m(\u001b[0m\u001b[0mstart\u001b[0m\u001b[0;34m=\u001b[0m\u001b[0mt_start\u001b[0m\u001b[0;34m,\u001b[0m \u001b[0mend\u001b[0m\u001b[0;34m=\u001b[0m\u001b[0mt_end\u001b[0m\u001b[0;34m,\u001b[0m \u001b[0mfreq\u001b[0m\u001b[0;34m=\u001b[0m\u001b[0mfreq\u001b[0m\u001b[0;34m)\u001b[0m\u001b[0;34m\u001b[0m\u001b[0;34m\u001b[0m\u001b[0m\n\u001b[0m\u001b[1;32m     37\u001b[0m         \u001b[0mtime_series\u001b[0m\u001b[0;34m.\u001b[0m\u001b[0mappend\u001b[0m\u001b[0;34m(\u001b[0m\u001b[0mpd\u001b[0m\u001b[0;34m.\u001b[0m\u001b[0mSeries\u001b[0m\u001b[0;34m(\u001b[0m\u001b[0mdata\u001b[0m\u001b[0;34m=\u001b[0m\u001b[0mdata\u001b[0m\u001b[0;34m,\u001b[0m \u001b[0mindex\u001b[0m\u001b[0;34m=\u001b[0m\u001b[0mindex\u001b[0m\u001b[0;34m)\u001b[0m\u001b[0;34m)\u001b[0m\u001b[0;34m\u001b[0m\u001b[0;34m\u001b[0m\u001b[0m\n\u001b[1;32m     38\u001b[0m \u001b[0;34m\u001b[0m\u001b[0m\n",
            "\u001b[0;31mTypeError\u001b[0m: __new__() got an unexpected keyword argument 'start'"
          ]
        }
      ]
    },
    {
      "cell_type": "code",
      "metadata": {
        "id": "PFe5pFsyikvB"
      },
      "source": [
        "# display first time series\n",
        "time_series_idx = 0\n",
        "\n",
        "plt.figure(figsize=(12,6))\n",
        "time_series[time_series_idx].plot()\n",
        "plt.show()"
      ],
      "execution_count": null,
      "outputs": []
    },
    {
      "cell_type": "markdown",
      "metadata": {
        "id": "2J9X5Zz3ikvE"
      },
      "source": [
        "---\n",
        "# Splitting in Time\n",
        "\n",
        "We'll evaluate our model on a test set of data. For machine learning tasks like classification, we typically create train/test data by randomly splitting examples into different sets. For forecasting it's important to do this train/test split in **time** rather than by individual data points. \n",
        "> In general, we can create training data by taking each of our *complete* time series and leaving off the last `prediction_length` data points to create *training* time series. \n",
        "\n",
        "### EXERCISE: Create training time series\n",
        "\n",
        "Complete the `create_training_series` function, which should take in our list of complete time series data and return a list of truncated, training time series.\n",
        "\n",
        "* In this example, we want to predict about a month's worth of data, and we'll set `prediction_length` to 30 (days).\n",
        "* To create a training set of data, we'll leave out the last 30 points of *each* of the time series we just generated, so we'll use only the first part as training data. \n",
        "* The **test set contains the complete range** of each time series.\n"
      ]
    },
    {
      "cell_type": "code",
      "metadata": {
        "id": "iSJEhK7QikvF"
      },
      "source": [
        "# create truncated, training time series\n",
        "def create_training_series(complete_time_series, prediction_length):\n",
        "    '''Given a complete list of time series data, create training time series.\n",
        "       :param complete_time_series: A list of all complete time series.\n",
        "       :param prediction_length: The number of points we want to predict.\n",
        "       :return: A list of training time series.\n",
        "       '''\n",
        "    # get training series\n",
        "    time_series_training = []\n",
        "    \n",
        "    for ts in complete_time_series:\n",
        "        # truncate trailing 30 pts\n",
        "        time_series_training.append(ts[:-prediction_length])\n",
        "        \n",
        "    return time_series_training\n",
        "    "
      ],
      "execution_count": null,
      "outputs": []
    },
    {
      "cell_type": "code",
      "metadata": {
        "id": "hvrKjjnSikvI"
      },
      "source": [
        "# test your code!\n",
        "\n",
        "# set prediction length\n",
        "prediction_length = 30 # 30 days ~ a month\n",
        "\n",
        "time_series_training = create_training_series(time_series, prediction_length)\n"
      ],
      "execution_count": null,
      "outputs": []
    },
    {
      "cell_type": "markdown",
      "metadata": {
        "id": "7ZLbdmxNikvK"
      },
      "source": [
        "### Training and Test Series\n",
        "\n",
        "We can visualize what these series look like, by plotting the train/test series on the same axis. We should see that the test series contains all of our data in a year, and a training series contains all but the last `prediction_length` points."
      ]
    },
    {
      "cell_type": "code",
      "metadata": {
        "id": "cgm90W9hikvL"
      },
      "source": [
        "# display train/test time series\n",
        "time_series_idx = 0\n",
        "\n",
        "plt.figure(figsize=(15,8))\n",
        "# test data is the whole time series\n",
        "time_series[time_series_idx].plot(label='test', lw=3)\n",
        "# train data is all but the last prediction pts\n",
        "time_series_training[time_series_idx].plot(label='train', ls=':', lw=3)\n",
        "\n",
        "plt.legend()\n",
        "plt.show()"
      ],
      "execution_count": null,
      "outputs": []
    },
    {
      "cell_type": "markdown",
      "metadata": {
        "id": "N_IvC4zEikvN"
      },
      "source": [
        "## Convert to JSON \n",
        "\n",
        "According to the [DeepAR documentation](https://docs.aws.amazon.com/sagemaker/latest/dg/deepar.html), DeepAR expects to see input training data in a JSON format, with the following fields:\n",
        "\n",
        "* **start**: A string that defines the starting date of the time series, with the format 'YYYY-MM-DD HH:MM:SS'.\n",
        "* **target**: An array of numerical values that represent the time series.\n",
        "* **cat** (optional): A numerical array of categorical features that can be used to encode the groups that the record belongs to. This is useful for finding models per class of item, such as in retail sales, where you might have {'shoes', 'jackets', 'pants'} encoded as categories {0, 1, 2}.\n",
        "\n",
        "The input data should be formatted with one time series per line in a JSON file. Each line looks a bit like a dictionary, for example:\n",
        "```\n",
        "{\"start\":'2007-01-01 00:00:00', \"target\": [2.54, 6.3, ...], \"cat\": [1]}\n",
        "{\"start\": \"2012-01-30 00:00:00\", \"target\": [1.0, -5.0, ...], \"cat\": [0]} \n",
        "...\n",
        "```\n",
        "In the above example, each time series has one, associated categorical feature and one time series feature.\n",
        "\n",
        "### EXERCISE: Formatting Energy Consumption Data\n",
        "\n",
        "For our data:\n",
        "* The starting date, \"start,\" will be the index of the first row in a time series, Jan. 1st of that year.\n",
        "* The \"target\" will be all of the energy consumption values that our time series holds.\n",
        "* We will not use the optional \"cat\" field.\n",
        "\n",
        "Complete the following utility function, which should convert `pandas.Series` objects into the appropriate JSON strings that DeepAR can consume."
      ]
    },
    {
      "cell_type": "code",
      "metadata": {
        "id": "0rwzj7LnikvO"
      },
      "source": [
        "def series_to_json_obj(ts):\n",
        "    '''Returns a dictionary of values in DeepAR, JSON format.\n",
        "       :param ts: A single time series.\n",
        "       :return: A dictionary of values with \"start\" and \"target\" keys.\n",
        "       '''\n",
        "    # get start time and target from the time series, ts\n",
        "    json_obj = {\"start\": str(ts.index[0]), \"target\": list(ts)}\n",
        "    return json_obj\n"
      ],
      "execution_count": null,
      "outputs": []
    },
    {
      "cell_type": "code",
      "metadata": {
        "id": "awmFVl7IikvR"
      },
      "source": [
        "# test out the code\n",
        "ts = time_series[0]\n",
        "\n",
        "json_obj = series_to_json_obj(ts)\n",
        "\n",
        "#print(json_obj)"
      ],
      "execution_count": null,
      "outputs": []
    },
    {
      "cell_type": "markdown",
      "metadata": {
        "id": "pYU1I1PIikvV"
      },
      "source": [
        "### Saving Data, Locally\n",
        "\n",
        "The next helper function will write one series to a single JSON line, using the new line character '\\n'. The data is also encoded and written to a filename that we specify."
      ]
    },
    {
      "cell_type": "code",
      "metadata": {
        "id": "cf8Z6UOSikvV"
      },
      "source": [
        "# import json for formatting data\n",
        "import json\n",
        "import os # and os for saving\n",
        "\n",
        "def write_json_dataset(time_series, filename): \n",
        "    with open(filename, 'wb') as f:\n",
        "        # for each of our times series, there is one JSON line\n",
        "        for ts in time_series:\n",
        "            json_line = json.dumps(series_to_json_obj(ts)) + '\\n'\n",
        "            json_line = json_line.encode('utf-8')\n",
        "            f.write(json_line)\n",
        "    print(filename + ' saved.')"
      ],
      "execution_count": null,
      "outputs": []
    },
    {
      "cell_type": "code",
      "metadata": {
        "id": "hwACExn1ikvY"
      },
      "source": [
        "# save this data to a local directory\n",
        "data_dir = 'json_energy_data'\n",
        "\n",
        "# make data dir, if it does not exist\n",
        "if not os.path.exists(data_dir):\n",
        "    os.makedirs(data_dir)"
      ],
      "execution_count": null,
      "outputs": []
    },
    {
      "cell_type": "code",
      "metadata": {
        "id": "_GH8HUy3ikva"
      },
      "source": [
        "# directories to save train/test data\n",
        "train_key = os.path.join(data_dir, 'train.json')\n",
        "test_key = os.path.join(data_dir, 'test.json')\n",
        "\n",
        "# write train/test JSON files\n",
        "write_json_dataset(time_series_training, train_key)        \n",
        "write_json_dataset(time_series, test_key)"
      ],
      "execution_count": null,
      "outputs": []
    },
    {
      "cell_type": "markdown",
      "metadata": {
        "id": "FWWfnP18ikvd"
      },
      "source": [
        "---\n",
        "## Uploading Data to S3\n",
        "\n",
        "Next, to make this data accessible to an estimator, I'll upload it to S3.\n",
        "\n",
        "### Sagemaker resources\n",
        "\n",
        "Let's start by specifying:\n",
        "* The sagemaker role and session for training a model.\n",
        "* A default S3 bucket where we can save our training, test, and model data."
      ]
    },
    {
      "cell_type": "code",
      "metadata": {
        "id": "jn3k_wcJikvd"
      },
      "source": [
        "import boto3\n",
        "import sagemaker\n",
        "from sagemaker import get_execution_role"
      ],
      "execution_count": null,
      "outputs": []
    },
    {
      "cell_type": "code",
      "metadata": {
        "id": "xaW_QAKaikvg"
      },
      "source": [
        "# session, role, bucket\n",
        "sagemaker_session = sagemaker.Session()\n",
        "role = get_execution_role()\n",
        "\n",
        "bucket = sagemaker_session.default_bucket()\n"
      ],
      "execution_count": null,
      "outputs": []
    },
    {
      "cell_type": "markdown",
      "metadata": {
        "id": "qOwE1fPfikvj"
      },
      "source": [
        "### EXERCISE: Upoad *both* training and test JSON files to S3\n",
        "\n",
        "Specify *unique* train and test prefixes that define the location of that data in S3.\n",
        "* Upload training data to a location in S3, and save that location to `train_path`\n",
        "* Upload test data to a location in S3, and save that location to `test_path`"
      ]
    },
    {
      "cell_type": "code",
      "metadata": {
        "id": "BLCXeqymikvk"
      },
      "source": [
        "# general prefix\n",
        "prefix='deepar-energy-consumption'\n",
        "\n",
        "# *unique* train/test prefixes\n",
        "train_prefix   = '{}/{}'.format(prefix, 'train')\n",
        "test_prefix    = '{}/{}'.format(prefix, 'test')\n",
        "\n",
        "# uploading data to S3, and saving locations\n",
        "train_path  = sagemaker_session.upload_data(train_key, bucket=bucket, key_prefix=train_prefix)\n",
        "test_path   = sagemaker_session.upload_data(test_key,  bucket=bucket, key_prefix=test_prefix)"
      ],
      "execution_count": null,
      "outputs": []
    },
    {
      "cell_type": "code",
      "metadata": {
        "id": "5xnXHeRKikvo"
      },
      "source": [
        "# check locations\n",
        "print('Training data is stored in: '+ train_path)\n",
        "print('Test data is stored in: '+ test_path)"
      ],
      "execution_count": null,
      "outputs": []
    },
    {
      "cell_type": "markdown",
      "metadata": {
        "id": "eiTnGM6Hikvr"
      },
      "source": [
        "---\n",
        "# Training a DeepAR Estimator\n",
        "\n",
        "Some estimators have specific, SageMaker constructors, but not all. Instead you can create a base `Estimator` and pass in the specific image (or container) that holds a specific model.\n",
        "\n",
        "Next, we configure the container image to be used for the region that we are running in."
      ]
    },
    {
      "cell_type": "code",
      "metadata": {
        "id": "nmhm-L5cikvr"
      },
      "source": [
        "from sagemaker.amazon.amazon_estimator import get_image_uri\n",
        "\n",
        "image_name = get_image_uri(boto3.Session().region_name, # get the region\n",
        "                           'forecasting-deepar') # specify image\n"
      ],
      "execution_count": null,
      "outputs": []
    },
    {
      "cell_type": "markdown",
      "metadata": {
        "id": "ND3I0tGIikvu"
      },
      "source": [
        "### EXERCISE: Instantiate an Estimator \n",
        "\n",
        "You can now define the estimator that will launch the training job. A generic Estimator will be defined by the usual constructor arguments and an `image_name`. \n",
        "> You can take a look at the [estimator source code](https://github.com/aws/sagemaker-python-sdk/blob/master/src/sagemaker/estimator.py#L595) to view specifics.\n"
      ]
    },
    {
      "cell_type": "code",
      "metadata": {
        "id": "K4vObOi2ikvu"
      },
      "source": [
        "from sagemaker.estimator import Estimator\n",
        "\n",
        "# dir to save model artifacts\n",
        "s3_output_path = \"s3://{}/{}/output\".format(bucket, prefix)\n",
        "\n",
        "# instantiate a DeepAR estimator\n",
        "estimator = Estimator(sagemaker_session=sagemaker_session,\n",
        "                      image_name=image_name,\n",
        "                      role=role,\n",
        "                      train_instance_count=1,\n",
        "                      train_instance_type='ml.c4.xlarge',\n",
        "                      output_path=s3_output_path\n",
        "                      )"
      ],
      "execution_count": null,
      "outputs": []
    },
    {
      "cell_type": "markdown",
      "metadata": {
        "id": "CvvFnQVJikvx"
      },
      "source": [
        "## Setting Hyperparameters\n",
        "\n",
        "Next, we need to define some DeepAR hyperparameters that define the model size and training behavior. Values for the epochs, frequency, prediction length, and context length are required.\n",
        "\n",
        "* **epochs**: The maximum number of times to pass over the data when training.\n",
        "* **time_freq**: The granularity of the time series in the dataset ('D' for daily).\n",
        "* **prediction_length**: A string; the number of time steps (based off the unit of frequency) that the model is trained to predict. \n",
        "* **context_length**: The number of time points that the model gets to see *before* making a prediction. \n",
        "\n",
        "### Context Length\n",
        "\n",
        "Typically, it is recommended that you start with a `context_length`=`prediction_length`. This is because a DeepAR model also receives \"lagged\" inputs from the target time series, which allow the model to capture long-term dependencies. For example, a daily time series can have yearly seasonality and DeepAR automatically includes a lag of one year. So, the context length can be shorter than a year, and the model will still be able to capture this seasonality. \n",
        "\n",
        "The lag values that the model picks depend on the frequency of the time series. For example, lag values for daily frequency are the previous week, 2 weeks, 3 weeks, 4 weeks, and year. You can read more about this in the [DeepAR \"how it works\" documentation](https://docs.aws.amazon.com/sagemaker/latest/dg/deepar_how-it-works.html).\n",
        "\n",
        "### Optional Hyperparameters\n",
        "\n",
        "You can also configure optional hyperparameters to further tune your model. These include parameters like the number of layers in our RNN model, the number of cells per layer, the likelihood function, and the training options, such as batch size and learning rate. \n",
        "\n",
        "For an exhaustive list of all the different DeepAR hyperparameters you can refer to the DeepAR [hyperparameter documentation](https://docs.aws.amazon.com/sagemaker/latest/dg/deepar_hyperparameters.html)."
      ]
    },
    {
      "cell_type": "code",
      "metadata": {
        "id": "OAfEwZxpikvx"
      },
      "source": [
        "freq='D'\n",
        "context_length=30 # same as prediction_length\n",
        "\n",
        "hyperparameters = {\n",
        "    \"epochs\": \"50\",\n",
        "    \"time_freq\": freq,\n",
        "    \"prediction_length\": str(prediction_length),\n",
        "    \"context_length\": str(context_length),\n",
        "    \"num_cells\": \"50\",\n",
        "    \"num_layers\": \"2\",\n",
        "    \"mini_batch_size\": \"128\",\n",
        "    \"learning_rate\": \"0.001\",\n",
        "    \"early_stopping_patience\": \"10\"\n",
        "}"
      ],
      "execution_count": null,
      "outputs": []
    },
    {
      "cell_type": "code",
      "metadata": {
        "id": "xVdueMYGikvz"
      },
      "source": [
        "# set the hyperparams\n",
        "estimator.set_hyperparameters(**hyperparameters)"
      ],
      "execution_count": null,
      "outputs": []
    },
    {
      "cell_type": "markdown",
      "metadata": {
        "id": "iI7Y4xbaikv4"
      },
      "source": [
        "## Training Job\n",
        "\n",
        "Now, we are ready to launch the training job! SageMaker will start an EC2 instance, download the data from S3, start training the model and save the trained model.\n",
        "\n",
        "If you provide the `test` data channel, as we do in this example, DeepAR will also calculate accuracy metrics for the trained model on this test data set. This is done by predicting the last `prediction_length` points of each time series in the test set and comparing this to the *actual* value of the time series. The computed error metrics will be included as part of the log output.\n",
        "\n",
        "The next cell may take a few minutes to complete, depending on data size, model complexity, and training options."
      ]
    },
    {
      "cell_type": "code",
      "metadata": {
        "id": "nvjVanj0ikv5"
      },
      "source": [
        "%%time\n",
        "# train and test channels\n",
        "data_channels = {\n",
        "    \"train\": train_path,\n",
        "    \"test\": test_path\n",
        "}\n",
        "\n",
        "# fit the estimator\n",
        "estimator.fit(inputs=data_channels)"
      ],
      "execution_count": null,
      "outputs": []
    },
    {
      "cell_type": "markdown",
      "metadata": {
        "id": "BhGcyeF5ikv7"
      },
      "source": [
        "## Deploy and Create a Predictor\n",
        "\n",
        "Now that we have trained a model, we can use it to perform predictions by deploying it to a predictor endpoint.\n",
        "\n",
        "Remember to **delete the endpoint** at the end of this notebook. A cell at the very bottom of this notebook will be provided, but it is always good to keep, front-of-mind."
      ]
    },
    {
      "cell_type": "code",
      "metadata": {
        "id": "U6CUVK6pikv8"
      },
      "source": [
        "%%time\n",
        "\n",
        "# create a predictor\n",
        "predictor = estimator.deploy(\n",
        "    initial_instance_count=1,\n",
        "    instance_type='ml.t2.medium',\n",
        "    content_type=\"application/json\" # specify that it will accept/produce JSON\n",
        ")"
      ],
      "execution_count": null,
      "outputs": []
    },
    {
      "cell_type": "markdown",
      "metadata": {
        "id": "fL_7xsAZikv-"
      },
      "source": [
        "---\n",
        "# Generating Predictions\n",
        "\n",
        "According to the [inference format](https://docs.aws.amazon.com/sagemaker/latest/dg/deepar-in-formats.html) for DeepAR, the `predictor` expects to see input data in a JSON format, with the following keys:\n",
        "* **instances**: A list of JSON-formatted time series that should be forecast by the model.\n",
        "* **configuration** (optional): A dictionary of configuration information for the type of response desired by the request.\n",
        "\n",
        "Within configuration the following keys can be configured:\n",
        "* **num_samples**: An integer specifying the number of samples that the model generates when making a probabilistic prediction.\n",
        "* **output_types**: A list specifying the type of response. We'll ask for **quantiles**, which look at the list of num_samples generated by the model, and generate [quantile estimates](https://en.wikipedia.org/wiki/Quantile) for each time point based on these values.\n",
        "* **quantiles**: A list that specified which quantiles estimates are generated and returned in the response.\n",
        "\n",
        "\n",
        "Below is an example of what a JSON query to a DeepAR model endpoint might look like.\n",
        "\n",
        "```\n",
        "{\n",
        " \"instances\": [\n",
        "  { \"start\": \"2009-11-01 00:00:00\", \"target\": [4.0, 10.0, 50.0, 100.0, 113.0] },\n",
        "  { \"start\": \"1999-01-30\", \"target\": [2.0, 1.0] }\n",
        " ],\n",
        " \"configuration\": {\n",
        "  \"num_samples\": 50,\n",
        "  \"output_types\": [\"quantiles\"],\n",
        "  \"quantiles\": [\"0.5\", \"0.9\"]\n",
        " }\n",
        "}\n",
        "```\n",
        "\n",
        "\n",
        "## JSON Prediction Request\n",
        "\n",
        "The code below accepts a **list** of time series as input and some configuration parameters. It then formats that series into a JSON instance and converts the input into an appropriately formatted JSON_input."
      ]
    },
    {
      "cell_type": "code",
      "metadata": {
        "id": "aNg_7zCPikv-"
      },
      "source": [
        "def json_predictor_input(input_ts, num_samples=50, quantiles=['0.1', '0.5', '0.9']):\n",
        "    '''Accepts a list of input time series and produces a formatted input.\n",
        "       :input_ts: An list of input time series.\n",
        "       :num_samples: Number of samples to calculate metrics with.\n",
        "       :quantiles: A list of quantiles to return in the predicted output.\n",
        "       :return: The JSON-formatted input.\n",
        "       '''\n",
        "    # request data is made of JSON objects (instances)\n",
        "    # and an output configuration that details the type of data/quantiles we want\n",
        "    \n",
        "    instances = []\n",
        "    for k in range(len(input_ts)):\n",
        "        # get JSON objects for input time series\n",
        "        instances.append(series_to_json_obj(input_ts[k]))\n",
        "\n",
        "    # specify the output quantiles and samples\n",
        "    configuration = {\"num_samples\": num_samples, \n",
        "                     \"output_types\": [\"quantiles\"], \n",
        "                     \"quantiles\": quantiles}\n",
        "\n",
        "    request_data = {\"instances\": instances, \n",
        "                    \"configuration\": configuration}\n",
        "\n",
        "    json_request = json.dumps(request_data).encode('utf-8')\n",
        "    \n",
        "    return json_request"
      ],
      "execution_count": null,
      "outputs": []
    },
    {
      "cell_type": "markdown",
      "metadata": {
        "id": "YFeYiLKoikwC"
      },
      "source": [
        "### Get a Prediction\n",
        "\n",
        "We can then use this function to get a prediction for a formatted time series!\n",
        "\n",
        "In the next cell, I'm getting an input time series and known target, and passing the formatted input into the predictor endpoint to get a resultant prediction."
      ]
    },
    {
      "cell_type": "code",
      "metadata": {
        "id": "Yq9aTZOvikwC"
      },
      "source": [
        "# get all input and target (test) time series\n",
        "input_ts = time_series_training\n",
        "target_ts = time_series\n",
        "\n",
        "# get formatted input time series\n",
        "json_input_ts = json_predictor_input(input_ts)\n",
        "\n",
        "# get the prediction from the predictor\n",
        "json_prediction = predictor.predict(json_input_ts)\n",
        "\n",
        "#print(json_prediction)"
      ],
      "execution_count": null,
      "outputs": []
    },
    {
      "cell_type": "markdown",
      "metadata": {
        "id": "TSQtmBpfikwF"
      },
      "source": [
        "## Decoding Predictions\n",
        "\n",
        "The predictor returns JSON-formatted prediction, and so we need to extract the predictions and quantile data that we want for visualizing the result. The function below, reads in a JSON-formatted prediction and produces a list of predictions in each quantile."
      ]
    },
    {
      "cell_type": "code",
      "metadata": {
        "id": "MCa_rxWIikwG"
      },
      "source": [
        "# helper function to decode JSON prediction\n",
        "def decode_prediction(prediction, encoding='utf-8'):\n",
        "    '''Accepts a JSON prediction and returns a list of prediction data.\n",
        "    '''\n",
        "    prediction_data = json.loads(prediction.decode(encoding))\n",
        "    prediction_list = []\n",
        "    for k in range(len(prediction_data['predictions'])):\n",
        "        prediction_list.append(pd.DataFrame(data=prediction_data['predictions'][k]['quantiles']))\n",
        "    return prediction_list\n"
      ],
      "execution_count": null,
      "outputs": []
    },
    {
      "cell_type": "code",
      "metadata": {
        "id": "ymJvjT3VikwI"
      },
      "source": [
        "# get quantiles/predictions\n",
        "prediction_list = decode_prediction(json_prediction)\n",
        "\n",
        "# should get a list of 30 predictions \n",
        "# with corresponding quantile values\n",
        "print(prediction_list[0])"
      ],
      "execution_count": null,
      "outputs": []
    },
    {
      "cell_type": "markdown",
      "metadata": {
        "id": "n8iuBzkGikwK"
      },
      "source": [
        "## Display the Results!\n",
        "\n",
        "The quantile data will give us all we need to see the results of our prediction.\n",
        "* Quantiles 0.1 and 0.9 represent higher and lower bounds for the predicted values.\n",
        "* Quantile 0.5 represents the median of all sample predictions.\n"
      ]
    },
    {
      "cell_type": "code",
      "metadata": {
        "id": "Tj1JYc5aikwL"
      },
      "source": [
        "# display the prediction median against the actual data\n",
        "def display_quantiles(prediction_list, target_ts=None):\n",
        "    # show predictions for all input ts\n",
        "    for k in range(len(prediction_list)):\n",
        "        plt.figure(figsize=(12,6))\n",
        "        # get the target month of data\n",
        "        if target_ts is not None:\n",
        "            target = target_ts[k][-prediction_length:]\n",
        "            plt.plot(range(len(target)), target, label='target')\n",
        "        # get the quantile values at 10 and 90%\n",
        "        p10 = prediction_list[k]['0.1']\n",
        "        p90 = prediction_list[k]['0.9']\n",
        "        # fill the 80% confidence interval\n",
        "        plt.fill_between(p10.index, p10, p90, color='y', alpha=0.5, label='80% confidence interval')\n",
        "        # plot the median prediction line\n",
        "        prediction_list[k]['0.5'].plot(label='prediction median')\n",
        "        plt.legend()\n",
        "        plt.show()"
      ],
      "execution_count": null,
      "outputs": []
    },
    {
      "cell_type": "code",
      "metadata": {
        "id": "7Rt7TVtGikwO"
      },
      "source": [
        "# display predictions\n",
        "display_quantiles(prediction_list, target_ts)"
      ],
      "execution_count": null,
      "outputs": []
    },
    {
      "cell_type": "markdown",
      "metadata": {
        "id": "AB9tdMiwikwQ"
      },
      "source": [
        "## Predicting the Future\n",
        "\n",
        "Recall that we did not give our model any data about 2010, but let's see if it can predict the energy consumption given **no target**, only a known start date!\n",
        "\n",
        "### EXERCISE: Format a request for a \"future\" prediction\n",
        "\n",
        "Create a formatted input to send to the deployed `predictor` passing in my usual parameters for \"configuration\". The \"instances\" will, in this case, just be one instance, defined by the following:\n",
        "* **start**: The start time will be time stamp that you specify. To predict the first 30 days of 2010, start on Jan. 1st, '2010-01-01'.\n",
        "* **target**: The target will be an empty list because this year has no, complete associated time series; we specifically withheld that information from our model, for testing purposes.\n",
        "```\n",
        "{\"start\": start_time, \"target\": []} # empty target\n",
        "```"
      ]
    },
    {
      "cell_type": "code",
      "metadata": {
        "id": "ipfxlEdAikwR"
      },
      "source": [
        "# Starting my prediction at the beginning of 2010\n",
        "start_date = '2010-01-01'\n",
        "timestamp = '00:00:00'\n",
        "\n",
        "# formatting start_date\n",
        "start_time = start_date +' '+ timestamp\n",
        "\n",
        "# formatting request_data\n",
        "# this instance has an empty target!\n",
        "request_data = {\"instances\": [{\"start\": start_time, \"target\": []}],\n",
        "                \"configuration\": {\"num_samples\": 50,\n",
        "                                  \"output_types\": [\"quantiles\"],\n",
        "                                  \"quantiles\": ['0.1', '0.5', '0.9']}\n",
        "                }\n",
        "\n",
        "json_input = json.dumps(request_data).encode('utf-8')\n",
        "\n",
        "print('Requesting prediction for '+start_time)"
      ],
      "execution_count": null,
      "outputs": []
    },
    {
      "cell_type": "markdown",
      "metadata": {
        "id": "WXnSyBLiikwV"
      },
      "source": [
        "Then get and decode the prediction response, as usual."
      ]
    },
    {
      "cell_type": "code",
      "metadata": {
        "id": "ymjfnCtGikwX"
      },
      "source": [
        "# get prediction response\n",
        "json_prediction = predictor.predict(json_input)\n",
        "\n",
        "prediction_2010 = decode_prediction(json_prediction)\n"
      ],
      "execution_count": null,
      "outputs": []
    },
    {
      "cell_type": "markdown",
      "metadata": {
        "id": "UYDNBCm4ikwb"
      },
      "source": [
        "Finally, I'll compare the predictions to a known target sequence. This target will come from a time series for the 2010 data, which I'm creating below."
      ]
    },
    {
      "cell_type": "code",
      "metadata": {
        "id": "D9P9qMwTikwc"
      },
      "source": [
        "# create 2010 time series\n",
        "ts_2010 = []\n",
        "\n",
        "# get global consumption data\n",
        "# index 1112 is where the 2010 data starts\n",
        "data_2010 = mean_power_df.values[1112:]\n",
        "\n",
        "index = pd.DatetimeIndex(start=start_date, periods=len(data_2010), freq='D')\n",
        "ts_2010.append(pd.Series(data=data_2010, index=index))"
      ],
      "execution_count": null,
      "outputs": []
    },
    {
      "cell_type": "code",
      "metadata": {
        "id": "QgHYFmaeikwg"
      },
      "source": [
        "# range of actual data to compare\n",
        "start_idx=0 # days since Jan 1st 2010\n",
        "end_idx=start_idx+prediction_length\n",
        "\n",
        "# get target data\n",
        "target_2010_ts = [ts_2010[0][start_idx:end_idx]]\n",
        "\n",
        "# display predictions\n",
        "display_quantiles(prediction_2010, target_2010_ts)"
      ],
      "execution_count": null,
      "outputs": []
    },
    {
      "cell_type": "markdown",
      "metadata": {
        "id": "XMmTqmZbikwk"
      },
      "source": [
        "## Delete the Endpoint\n",
        "\n",
        "Try your code out on different time series. You may want to tweak your DeepAR hyperparameters and see if you can improve the performance of this predictor.\n",
        "\n",
        "When you're done with evaluating the predictor (any predictor), make sure to delete the endpoint."
      ]
    },
    {
      "cell_type": "code",
      "metadata": {
        "id": "dSu5fr_tikwl"
      },
      "source": [
        "## TODO: delete the endpoint\n",
        "predictor.delete_endpoint()"
      ],
      "execution_count": null,
      "outputs": []
    },
    {
      "cell_type": "markdown",
      "metadata": {
        "id": "06nvgrEmikwp"
      },
      "source": [
        "## Conclusion\n",
        "\n",
        "Now you've seen one complex but far-reaching method for time series forecasting. You should have the skills you need to apply the DeepAR model to data that interests you!"
      ]
    }
  ]
}